{
 "cells": [
  {
   "cell_type": "markdown",
   "id": "0797b9e6-1e6f-4de9-9bc7-89aea1d01721",
   "metadata": {},
   "source": [
    "<p style=\"color:#153462; \n",
    "          font-weight: bold; \n",
    "          font-size: 30px; \n",
    "          font-family: Gill Sans, sans-serif; \n",
    "          text-align: center;\">\n",
    "          K Means Clustering</p>"
   ]
  },
  {
   "cell_type": "markdown",
   "id": "fd8ad160-4aef-471c-a4c1-ff6b51f47066",
   "metadata": {},
   "source": [
    "### <span style=\"color:#3C4048; font-weight: bold; font-size: 18px; font-family: Gill Sans, sans-serif;\">Introduction</span>"
   ]
  },
  {
   "cell_type": "markdown",
   "id": "771e72e0-555e-4ae7-b3c8-08a56bee8bb6",
   "metadata": {},
   "source": [
    "<p style=\"text-align: justify; text-justify: inter-word;\">\n",
    "   <font size=3>\n",
    "       K Means Clustering is a Unsupervised Machine Learning Algorithm. This algorithm takes unlabelled data as a input and groups into the clusters. <br>\n",
    "       Few clustering examples are:\n",
    "       <ul>\n",
    "           <li>Cluster Similar Documents</li>\n",
    "           <li>Cluster Customers based on Features</li>\n",
    "           <li>Market Segmentation</li>\n",
    "           <li>Identify Similar Physical Groups</li>\n",
    "       </ul>\n",
    "   </font>\n",
    "</p>"
   ]
  },
  {
   "cell_type": "markdown",
   "id": "3fcca82c-2f05-4b89-98e9-f5b083c5fadc",
   "metadata": {},
   "source": [
    "### <span style=\"color:#3C4048; font-weight: bold; font-size: 18px; font-family: Gill Sans, sans-serif;\">How K Mean Clustering Works</span>"
   ]
  },
  {
   "cell_type": "markdown",
   "id": "22ccb3e4-dbb3-43c6-9e38-f313ffd6eaf0",
   "metadata": {},
   "source": [
    "<p style=\"text-align: justify; text-justify: inter-word;\">\n",
    "   <font size=3>\n",
    "       <ol>\n",
    "           <li>Choose a number of Clusters \"K\"</li>\n",
    "           <li>Randomly assign each point to a cluster</li>\n",
    "           <li>\n",
    "               Until cluster stop changing, repeat the following:\n",
    "               <ul>\n",
    "                   <li>For each cluster, compute the cluster centroid by taking the mean vector of\n",
    "                       points in the cluster</li>\n",
    "                   <li>Assign each data point to the cluster for which the centroid is the closest</li>\n",
    "               </ul>\n",
    "           </li>\n",
    "       </ol>\n",
    "   </font>\n",
    "</p>"
   ]
  },
  {
   "cell_type": "code",
   "execution_count": null,
   "id": "925f4d9f-3a99-4cb2-84be-2105e9a6eed1",
   "metadata": {},
   "outputs": [],
   "source": []
  }
 ],
 "metadata": {
  "kernelspec": {
   "display_name": "Python 3 (ipykernel)",
   "language": "python",
   "name": "python3"
  },
  "language_info": {
   "codemirror_mode": {
    "name": "ipython",
    "version": 3
   },
   "file_extension": ".py",
   "mimetype": "text/x-python",
   "name": "python",
   "nbconvert_exporter": "python",
   "pygments_lexer": "ipython3",
   "version": "3.11.2"
  }
 },
 "nbformat": 4,
 "nbformat_minor": 5
}
