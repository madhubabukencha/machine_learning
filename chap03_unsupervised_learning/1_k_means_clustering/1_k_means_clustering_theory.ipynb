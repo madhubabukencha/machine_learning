{
 "cells": [
  {
   "cell_type": "markdown",
   "id": "0797b9e6-1e6f-4de9-9bc7-89aea1d01721",
   "metadata": {},
   "source": [
    "<p style=\"color:#153462; \n",
    "          font-weight: bold; \n",
    "          font-size: 30px; \n",
    "          font-family: Gill Sans, sans-serif; \n",
    "          text-align: center;\">\n",
    "          K Means Clustering</p>"
   ]
  },
  {
   "cell_type": "markdown",
   "id": "fd8ad160-4aef-471c-a4c1-ff6b51f47066",
   "metadata": {},
   "source": [
    "### <span style=\"color:#3C4048; font-weight: bold; font-size: 18px; font-family: Gill Sans, sans-serif;\">Introduction</span>"
   ]
  },
  {
   "cell_type": "markdown",
   "id": "771e72e0-555e-4ae7-b3c8-08a56bee8bb6",
   "metadata": {},
   "source": [
    "<p style=\"text-align: justify; text-justify: inter-word;\">\n",
    "   <font size=3>\n",
    "       K Means Clustering is a Unsupervised Machine Learning Algorithm. This algorithm takes unlabelled data as a input and groups into the clusters. <br>\n",
    "       Few clustering examples are:\n",
    "       <ul>\n",
    "           <li>Cluster Similar Documents</li>\n",
    "           <li>Cluster Customers based on Features</li>\n",
    "           <li>Market Segmentation</li>\n",
    "           <li>Identify Similar Physical Groups</li>\n",
    "       </ul>\n",
    "   </font>\n",
    "</p>"
   ]
  },
  {
   "cell_type": "markdown",
   "id": "3fcca82c-2f05-4b89-98e9-f5b083c5fadc",
   "metadata": {},
   "source": [
    "### <span style=\"color:#3C4048; font-weight: bold; font-size: 18px; font-family: Gill Sans, sans-serif;\">How K Mean Clustering Algorithm Works</span>"
   ]
  },
  {
   "cell_type": "markdown",
   "id": "22ccb3e4-dbb3-43c6-9e38-f313ffd6eaf0",
   "metadata": {},
   "source": [
    "<p style=\"text-align: justify; text-justify: inter-word;\">\n",
    "   <font size=3>\n",
    "       <ol>\n",
    "           <li>Choose a number of Clusters \"K\"</li>\n",
    "           <li>Randomly assign each point to a cluster</li>\n",
    "           <li>\n",
    "               Until cluster stop changing, repeat the following:\n",
    "               <ul>\n",
    "                   <li>For each cluster, compute the cluster centroid by taking the mean vector of\n",
    "                       points in the cluster</li>\n",
    "                   <li>Assign each data point to the cluster for which the centroid is the closest</li>\n",
    "               </ul>\n",
    "           </li>\n",
    "       </ol>\n",
    "   </font>\n",
    "</p>"
   ]
  },
  {
   "cell_type": "markdown",
   "id": "ce0129e1-3e47-40cf-b435-77e3f339c507",
   "metadata": {},
   "source": [
    "### <span style=\"color:#3C4048; font-weight: bold; font-size: 18px; font-family: Gill Sans, sans-serif;\">Tips to Choose K value</span>"
   ]
  },
  {
   "cell_type": "markdown",
   "id": "96a75199-bfe5-4e47-b0e4-d56728b5c887",
   "metadata": {},
   "source": [
    "<p style=\"text-align: justify; text-justify: inter-word;\">\n",
    "   <font size=3>\n",
    "       One way to choose best 'K' value is using Elbow method. To achieve this, we first need to compute\n",
    "       the sum of squared error (SSE) for some values of 'K' (for example 2, 4, 6, 8 etc..,). The SSE is\n",
    "       defined as the sum of the squared distance between each member of the cluster and its centroid.\n",
    "       <br><br>\n",
    "       If you plot 'K' against the SSE, you will see that the error decreases as 'K' gets larger. This is\n",
    "       because when the number of clusters increases, they should be smaller, so distortion( the average of\n",
    "       the squared distances from the cluster centers of the respective clusters to each data point.) is\n",
    "       also smaller.\n",
    "       <br><br>\n",
    "       The idea of the elbow method is to choose the 'K' at which the SSE decreases abruptly. If we encounter\n",
    "       graph something like below one, then choose 4 or 5 cluster is good for K.\n",
    "   </font>\n",
    "</p>"
   ]
  },
  {
   "cell_type": "markdown",
   "id": "09f4f942-e998-45a1-994c-99f2fcc26108",
   "metadata": {
    "tags": []
   },
   "source": [
    "<img src=\"images\\elbow_method.png\" alt=\"elbow_method\" style=\"width: 600px;\"/>"
   ]
  },
  {
   "cell_type": "code",
   "execution_count": null,
   "id": "17a08954-b1ed-4785-86bb-a4daf7009570",
   "metadata": {},
   "outputs": [],
   "source": []
  }
 ],
 "metadata": {
  "kernelspec": {
   "display_name": "Python 3 (ipykernel)",
   "language": "python",
   "name": "python3"
  },
  "language_info": {
   "codemirror_mode": {
    "name": "ipython",
    "version": 3
   },
   "file_extension": ".py",
   "mimetype": "text/x-python",
   "name": "python",
   "nbconvert_exporter": "python",
   "pygments_lexer": "ipython3",
   "version": "3.11.2"
  }
 },
 "nbformat": 4,
 "nbformat_minor": 5
}
