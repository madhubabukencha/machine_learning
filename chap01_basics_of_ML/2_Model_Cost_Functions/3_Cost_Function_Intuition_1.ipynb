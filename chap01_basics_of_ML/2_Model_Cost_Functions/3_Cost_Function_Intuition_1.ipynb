{
 "cells": [
  {
   "cell_type": "markdown",
   "metadata": {},
   "source": [
    "<center><font size=6 color=\"#00416d\">Cost Function Intuition-1</font></center>"
   ]
  },
  {
   "cell_type": "markdown",
   "metadata": {},
   "source": [
    "<p>In this Cost Function Intuition topic, our goal is to get a <strong>best possible line</strong>. The  best possible line means nothing but <mark style=\"background-color: #ffb0b0;\">the average squared vertical distances of the <b>scattered points</b> from the <b>hypothesis line</b> will be the least</mark>. Ideally, the line should pass through all the points of our training data set. In such a case, the value of J(θ<sub>0</sub>,θ<sub>1</sub>) will be 0. In the below examples we are going to see hypothesis line passing throgh the all scattered points, so the distance between them is 0. That will best fitting line for our model</p>"
   ]
  },
  {
   "cell_type": "markdown",
   "metadata": {},
   "source": [
    "Here we only gonna have one parameter θ<sub>1</sub> and so my optimization objective is to minimize J(θ<sub>1</sub>). In pictures, what this means is that if θ<sub>0</sub> equals zero that corresponds to choosing only hypothesis functions that pass through the origin, that pass through the point (0, 0)"
   ]
  },
  {
   "cell_type": "markdown",
   "metadata": {},
   "source": [
    "## θ1 = 1 :"
   ]
  },
  {
   "cell_type": "markdown",
   "metadata": {},
   "source": [
    "<img src=\"images\\cost_function_intuition\\cost_function_1.png\" alt=\"Drawing\" style=\"width: 800px;\"/>"
   ]
  },
  {
   "cell_type": "markdown",
   "metadata": {},
   "source": [
    "### calculation for if  θ0 = 0 and θ1 = 1 :"
   ]
  },
  {
   "cell_type": "markdown",
   "metadata": {},
   "source": [
    "<strong>Hypothesis</strong>: h<sub>θ</sub>(x) = θ <sub>0</sub> + θ <sub>1</sub>x <br>\n",
    "h(1) = 0 + 1.1 ==> 1 <br>\n",
    "h(2) = 0 + 1.2 ==> 2 <br>\n",
    "h(3) = 0 + 1.3 ==> 3"
   ]
  },
  {
   "cell_type": "markdown",
   "metadata": {},
   "source": [
    "<b>Note</b>: Here m = 3,\n",
    "\n",
    "<b>Cost Function</b>: J(1) = (1/2(3))((1-1)<sup>2</sup>+(2-2)<sup>2</sup>+(3-3)<sup>2</sup>) ==> (1/6) * 0 ==> 0"
   ]
  },
  {
   "cell_type": "markdown",
   "metadata": {},
   "source": [
    "## θ1 = 0.5 :"
   ]
  },
  {
   "cell_type": "markdown",
   "metadata": {},
   "source": [
    "<img src=\"images\\cost_function_intuition\\cost_function_2.png\" alt=\"Drawing\" style=\"width: 800px;\"/>"
   ]
  },
  {
   "cell_type": "markdown",
   "metadata": {},
   "source": [
    "<b>Note</b>: Here in the graph 0.5, 1, 1.5 are values for hypothesis function"
   ]
  },
  {
   "cell_type": "markdown",
   "metadata": {},
   "source": [
    "h(1) = 0 + 0.5(1) ==> 0 + 0.5 ==> 0.5 <br>\n",
    "h(2) = 0 + 0.5(2) ==> 0 + 1 ==> 1<br>\n",
    "h(3) = 0 + 0.5(3) ==> 0 + 1.5 ==> 1.5"
   ]
  },
  {
   "cell_type": "markdown",
   "metadata": {},
   "source": [
    "<b>Note</b>: Here m = 3,\n",
    "\n",
    "<b>Cost Function</b>: J(0.5) = (1/2(3))((0.5-1)<sup>2</sup>+(1-2)<sup>2</sup>+(1.5-3)<sup>2</sup>) ==> (1/6) * (0.25+1+1.5) ==> (1/6)*(3.50) ==> 0.58"
   ]
  },
  {
   "cell_type": "markdown",
   "metadata": {},
   "source": [
    "## θ1 = 1.5 :"
   ]
  },
  {
   "cell_type": "markdown",
   "metadata": {},
   "source": [
    "<img src=\"images\\cost_function_intuition\\cost_function_3.png\" alt=\"Drawing\" style=\"width: 800px;\"/>"
   ]
  },
  {
   "cell_type": "markdown",
   "metadata": {},
   "source": [
    "h(1) = 0 + 1.5(1) ==> 0 + 1.5 ==> 1.5 <br>\n",
    "h(2) = 0 + 1.5(2) ==> 0 + 3 ==> 3<br>\n",
    "h(3) = 0 + 1.5(3) ==> 0 + 3.75 ==> 3.75"
   ]
  },
  {
   "cell_type": "markdown",
   "metadata": {},
   "source": [
    "<b>Note</b>: Here m = 3,\n",
    "\n",
    "<b>Cost Function</b>: J(0.5) = (1/2(3))((1.5-1)<sup>2</sup>+(3-2)<sup>2</sup>+(3.75-3)<sup>2</sup>) ==> (1/6) * (0.25+1+0.56) ==> (1/6)*(1.81) ==> 0.30"
   ]
  },
  {
   "cell_type": "markdown",
   "metadata": {},
   "source": [
    "<font size=5 color=\"color:#290001;\">Conclusion:</font> <br>\n",
    "Here J(1) is giving minimum value. so θ<sub>1</sub> =1 will give best fitting line for our model"
   ]
  }
 ],
 "metadata": {
  "kernelspec": {
   "display_name": "Python 3",
   "language": "python",
   "name": "python3"
  },
  "language_info": {
   "codemirror_mode": {
    "name": "ipython",
    "version": 3
   },
   "file_extension": ".py",
   "mimetype": "text/x-python",
   "name": "python",
   "nbconvert_exporter": "python",
   "pygments_lexer": "ipython3",
   "version": "3.8.3"
  }
 },
 "nbformat": 4,
 "nbformat_minor": 4
}
