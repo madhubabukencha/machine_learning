{
 "cells": [
  {
   "cell_type": "markdown",
   "metadata": {},
   "source": [
    "<center><font size=6 color=\"#00416d\">Cost Function Intuition-2</font></center>"
   ]
  },
  {
   "cell_type": "markdown",
   "metadata": {},
   "source": [
    "<p>When we have two variables(θ<sub>0</sub>and θ<sub>1</sub>), we use 3D graphs to plot Cost Function J(θ<sub>0</sub>,θ<sub>1</sub>)data. like below</p>\n",
    "<img src=\"images\\cost_function_intuition_2\\graph_3.png\" alt=\"Drawing\" style=\"width: 800px;\"/>"
   ]
  },
  {
   "cell_type": "markdown",
   "metadata": {},
   "source": [
    "<p>The height of the surface of the points indicates the value of J(θ<sub>0</sub>,θ<sub>1</sub>). To plot this 3D data in 2D format will use <b>Contour Figures or Contour Plots</b></p>. Those will look like below(right side),"
   ]
  },
  {
   "cell_type": "markdown",
   "metadata": {},
   "source": [
    "<img src=\"images\\cost_function_intuition_2\\contour_figure_2d.png\" alt=\"Drawing\" style=\"width: 800px;\"/>"
   ]
  },
  {
   "cell_type": "markdown",
   "metadata": {},
   "source": [
    "<p>The center most circle gives the minimum value of Cost Founction. i.e provides best possible line for our data set</p>\n",
    "<img src=\"images\\cost_function_intuition_2\\minimum_contour.png\" alt=\"Drawing\" style=\"width: 800px;\"/>"
   ]
  },
  {
   "cell_type": "markdown",
   "metadata": {},
   "source": [
    "### Useful Resource:"
   ]
  },
  {
   "cell_type": "markdown",
   "metadata": {},
   "source": [
    "<ul>\n",
    "  <li><a href=\"https://www.coursera.org/learn/machine-learning/lecture/nwpe2/cost-function-intuition-ii\">cost-function-intuition-ii</li>\n",
    "</ul>\n"
   ]
  },
  {
   "cell_type": "code",
   "execution_count": null,
   "metadata": {},
   "outputs": [],
   "source": []
  }
 ],
 "metadata": {
  "kernelspec": {
   "display_name": "Python 3",
   "language": "python",
   "name": "python3"
  },
  "language_info": {
   "codemirror_mode": {
    "name": "ipython",
    "version": 3
   },
   "file_extension": ".py",
   "mimetype": "text/x-python",
   "name": "python",
   "nbconvert_exporter": "python",
   "pygments_lexer": "ipython3",
   "version": "3.8.3"
  }
 },
 "nbformat": 4,
 "nbformat_minor": 4
}
