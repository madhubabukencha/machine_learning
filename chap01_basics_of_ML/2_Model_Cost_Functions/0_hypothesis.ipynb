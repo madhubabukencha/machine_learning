{
 "cells": [
  {
   "cell_type": "markdown",
   "metadata": {},
   "source": [
    "<center><font size=6 color=\"#00416d\">Hypothesis</font></center>"
   ]
  },
  {
   "cell_type": "markdown",
   "metadata": {},
   "source": [
    "### Key terminology to know before understanding Hypothesis:"
   ]
  },
  {
   "cell_type": "markdown",
   "metadata": {},
   "source": [
    "<strong>Source</strong>: https://www.quora.com/What-is-hypothesis-in-machine-learning\n",
    "<p>\n",
    "   Essentially, the terms \"classifier\" and \"model\" are synonymous in certain contexts; \n",
    "   however, sometimes people refer to \"classifier\" as the learning algorithm that learns\n",
    "   the model from the training data. To makes things more tractable, let's define some\n",
    "   of the key terminology\n",
    "</p>\n",
    "<ul>\n",
    "    <li><i>Training sample</i>: A training sample is a data point x in an available training set that we use for tackling a predictive modeling task. <mark style=\"background-color: #ffb0b0;\">For example, if we are interested in classifying emails, one email in our dataset would be one training sample.</mark> Sometimes, people also use the synonymous terms  <mark style=\"background-color: #ffb0b0;\">training instance or training example.</mark></li><br>\n",
    "    <li><i>Target function</i>: In predictive modeling, we are typically interested in modeling a particular process; we want to learn or approximate a particular function that, for example, let's us distinguish spam from non-spam email. The target function f(x) = y is the true function f that we want to model.</li><br>\n",
    "    <li>\n",
    "      <i>Hypothesis</i>: A hypothesis is a certain function that we believe (or hope) is similar to the true function, the target function that we want to model. <mark style=\"background-color: #ffb0b0;\"> In context of email spam classification, it would be the rule we came up with that allows us to separate spam from non-spam emails</mark>\n",
    "    </li><br>\n",
    "    <li>\n",
    "    <i>Model</i>: In machine learning field, the terms hypothesis and model are often used interchangeably. In other sciences, they can have different meanings, <mark style=\"background-color: #ffb0b0;\">i.e., the hypothesis would be the \"educated guess\" by the scientist, and the model would be the manifestation of this guess that can be used to test the hypothesis.</mark>\n",
    "    </li> <br>\n",
    "    <li>\n",
    "        <i>Learning algorithm</i>: Again, our goal is to find or approximate the target function, and the learning algorithm is a set of instructions that tries to model the target function using our training dataset. <mark style=\"background-color: #ffb0b0;\">A learning algorithm comes with a hypothesis space, the set of possible hypotheses it can come up with in order to model the unknown target function by formulating the final hypothesis</mark>\n",
    "    </li><br>\n",
    "    <img src=\"images\\model.png\" alt=\"model\" style=\"width: 600px;\"/><br>\n",
    "    <li>\n",
    "        <i>Classifier</i>: A classifier is a special case of a hypothesis (nowadays, often learned by a machine learning algorithm). A classifier is a hypothesis or discrete-valued function that is used to assign (categorical) class labels to particular data points. In the email classification example, this classifier could be a hypothesis for labeling emails as spam or non-spam. However, a hypothesis must not necessarily be synonymous to a classifier. In a different application, our hypothesis could be a function for mapping study time and educational backgrounds of students to their future SAT scores.\n",
    "    </li>\n",
    "    <p>So, we can say that a classifier is a special case of a hypothesis or model: a classifier is a function that assigns a class label to a data point.</p>\n",
    "    \n",
    "</ul>"
   ]
  },
  {
   "cell_type": "markdown",
   "metadata": {},
   "source": [
    "### Hypothesis Space (H):"
   ]
  },
  {
   "cell_type": "markdown",
   "metadata": {},
   "source": [
    "Hypothesis space is the set of all the possible legal hypothesis. This is the set from which the machine\n",
    "learning algorithm would determine the best possible (only one) which would best describe the target function or the outputs.\n",
    "\n",
    "<img src=\"images\\hypothesis_space.png\" alt=\"model\" style=\"width: 600px;\"/><br>"
   ]
  },
  {
   "cell_type": "code",
   "execution_count": null,
   "metadata": {},
   "outputs": [],
   "source": []
  }
 ],
 "metadata": {
  "kernelspec": {
   "display_name": "Python 3 (ipykernel)",
   "language": "python",
   "name": "python3"
  },
  "language_info": {
   "codemirror_mode": {
    "name": "ipython",
    "version": 3
   },
   "file_extension": ".py",
   "mimetype": "text/x-python",
   "name": "python",
   "nbconvert_exporter": "python",
   "pygments_lexer": "ipython3",
   "version": "3.10.2"
  }
 },
 "nbformat": 4,
 "nbformat_minor": 4
}
