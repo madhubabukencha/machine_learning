{
 "cells": [
  {
   "cell_type": "markdown",
   "metadata": {},
   "source": [
    "<center><font size=6 color=\"#00416d\">Cost Function</font></center>"
   ]
  },
  {
   "cell_type": "markdown",
   "metadata": {},
   "source": [
    "<p>We can measure the accuracy of our hypothesis function by using a cost function (we will understand this in next topic). This takes an average difference (actually a fancier version of an average) of all the results of the hypothesis with inputs from x's and the actual output y's.</p>\n",
    "\n",
    "<strong>Hypothesis</strong>: h<sub>θ</sub>(x) = θ <sub>0</sub> + θ <sub>1</sub>x <br>\n",
    "<strong>θ<sub>i's</sub></strong>: are the parameters"
   ]
  },
  {
   "cell_type": "markdown",
   "metadata": {},
   "source": [
    "<p>With different choices of the parameter's theta 0 and theta 1, we are going to get different Hypothesis functions. You can see them below.</p>"
   ]
  },
  {
   "cell_type": "markdown",
   "metadata": {},
   "source": [
    "<img src=\"images\\hypothesis_variations.png\" alt=\"Drawing\" style=\"width: 600px;\"/>"
   ]
  },
  {
   "cell_type": "markdown",
   "metadata": {},
   "source": [
    "#### Calculation for θ0 = 0 and θ1 = 1:"
   ]
  },
  {
   "cell_type": "markdown",
   "metadata": {},
   "source": [
    "h(0) = 0 + 0.5(0) ==> 0 + 0 ==> 0 <br>\n",
    "h(1) = 0 + 0.5(1) ==> 0 + 0.5 ==> 0.5 <br>\n",
    "h(2) = 0 + 0.5(2) ==> 0 + 1 ==> 1<br>\n",
    "h(3) = 0 + 0.5(3) ==> 0 + 1.5 ==> 1.5"
   ]
  },
  {
   "cell_type": "markdown",
   "metadata": {},
   "source": [
    "<p>Now our goal is, we need to choose θ <sub>0</sub> and θ <sub>1</sub> so that h<sub>θ</sub>(x) is close to \"y(Nothing but output of our training set)\" of our training example(x, y)"
   ]
  },
  {
   "cell_type": "markdown",
   "metadata": {},
   "source": [
    "<img src=\"images\\cost_function.png\" alt=\"Drawing\" style=\"width: 400px;\"/>"
   ]
  },
  {
   "cell_type": "markdown",
   "metadata": {},
   "source": [
    "<b>Minimization of θ <sub>0</sub> and θ <sub>1</sub></b> = (h<sub>θ</sub>(x)-y)<sup>2</sup>      (&#8756; It will give us the closet value to 'y')"
   ]
  },
  {
   "cell_type": "code",
   "execution_count": 5,
   "metadata": {},
   "outputs": [
    {
     "data": {
      "text/html": [
       "<style>.sigma {position: relative;font-size: 2.5em;display: inline-block;line-height: .7em;vertical-align: middle;} .sigma:before {font-size: 12px;display: block;position absolute;left: 0;top: 0;content: \"m\";width: 22px;text-align: center;}.sigma:after {font-size: 12px;display: block;position absolute;left: 0;bottom: 0;content: \"i = 1\";width: 27px;text-align: center;}</style><b>For upto m<sup>th</sup> training set</b> = <span class='sigma'>&Sigma;</span>(h<sub>θ</sub>(x <sub>i</sub>)-y<sub>i</sub>)<sup>2</sup>"
      ],
      "text/plain": [
       "<IPython.core.display.HTML object>"
      ]
     },
     "execution_count": 5,
     "metadata": {},
     "output_type": "execute_result"
    }
   ],
   "source": [
    "from IPython.display import HTML\n",
    "style = '<style>.sigma {position: relative;font-size: 2.5em;display: inline-block;line-height: .7em;vertical-align: middle;} .sigma:before {font-size: 12px;display: block;position absolute;left: 0;top: 0;content: \"m\";width: 22px;text-align: center;}.sigma:after {font-size: 12px;display: block;position absolute;left: 0;bottom: 0;content: \"i = 1\";width: 27px;text-align: center;}</style>'\n",
    "cost_function = \"<b>For upto m<sup>th</sup> training set</b> = <span class='sigma'>&Sigma;</span>(h<sub>θ</sub>(x <sub>i</sub>)-y<sub>i</sub>)<sup>2</sup>\"\n",
    "HTML(style+cost_function)"
   ]
  },
  {
   "cell_type": "code",
   "execution_count": 7,
   "metadata": {},
   "outputs": [
    {
     "data": {
      "text/html": [
       "<style>.sigma {position: relative;font-size: 2.5em;display: inline-block;line-height: .7em;vertical-align: middle;} .sigma:before {font-size: 12px;display: block;position absolute;left: 0;top: 0;content: \"m\";width: 22px;text-align: center;}.sigma:after {font-size: 12px;display: block;position absolute;left: 0;bottom: 0;content: \"i = 1\";width: 27px;text-align: center;}</style><b>mean of the squares</b> = (<span class='sigma'>&Sigma;</span>(h<sub>θ</sub>(x <sub>i</sub>)-y<sub>i</sub>)<sup>2</sup>)/m"
      ],
      "text/plain": [
       "<IPython.core.display.HTML object>"
      ]
     },
     "execution_count": 7,
     "metadata": {},
     "output_type": "execute_result"
    }
   ],
   "source": [
    "from IPython.display import HTML\n",
    "style = '<style>.sigma {position: relative;font-size: 2.5em;display: inline-block;line-height: .7em;vertical-align: middle;} .sigma:before {font-size: 12px;display: block;position absolute;left: 0;top: 0;content: \"m\";width: 22px;text-align: center;}.sigma:after {font-size: 12px;display: block;position absolute;left: 0;bottom: 0;content: \"i = 1\";width: 27px;text-align: center;}</style>'\n",
    "cost_function = \"<b>mean of the squares</b> = (<span class='sigma'>&Sigma;</span>(h<sub>θ</sub>(x <sub>i</sub>)-y<sub>i</sub>)<sup>2</sup>)/m\"\n",
    "HTML(style+cost_function)"
   ]
  },
  {
   "cell_type": "code",
   "execution_count": 6,
   "metadata": {},
   "outputs": [
    {
     "data": {
      "text/html": [
       "<style>.sigma {position: relative;font-size: 2.5em;display: inline-block;line-height: .7em;vertical-align: middle;} .sigma:before {font-size: 12px;display: block;position absolute;left: 0;top: 0;content: \"m\";width: 22px;text-align: center;}.sigma:after {font-size: 12px;display: block;position absolute;left: 0;bottom: 0;content: \"i = 1\";width: 27px;text-align: center;}</style><b>To minize output:</b>J(θ<sub>0</sub>, θ<sub>1</sub>)=(1/2m)<span class='sigma'>&Sigma;</span>(h<sub>θ</sub>(x <sub>i</sub>)-y<sub>i</sub>)<sup>2</sup>"
      ],
      "text/plain": [
       "<IPython.core.display.HTML object>"
      ]
     },
     "execution_count": 6,
     "metadata": {},
     "output_type": "execute_result"
    }
   ],
   "source": [
    "from IPython.display import HTML\n",
    "style = '<style>.sigma {position: relative;font-size: 2.5em;display: inline-block;line-height: .7em;vertical-align: middle;} .sigma:before {font-size: 12px;display: block;position absolute;left: 0;top: 0;content: \"m\";width: 22px;text-align: center;}.sigma:after {font-size: 12px;display: block;position absolute;left: 0;bottom: 0;content: \"i = 1\";width: 27px;text-align: center;}</style>'\n",
    "cost_function = \"<b>To minize output:</b>J(θ<sub>0</sub>, θ<sub>1</sub>)=(1/2m)<span class='sigma'>&Sigma;</span>(h<sub>θ</sub>(x <sub>i</sub>)-y<sub>i</sub>)<sup>2</sup>\"\n",
    "HTML(style+cost_function)"
   ]
  },
  {
   "cell_type": "markdown",
   "metadata": {},
   "source": [
    "<p>To break it apart, it is <code>1/2 &#x035E;x</code>, where &#x035E;x  is the mean of the squares of <strong> h<sub>θ</sub>(x <sub>i</sub>)-y<sub>i</sub></strong>, or the difference between the predicted value and the actual value.</p> <br>"
   ]
  },
  {
   "cell_type": "markdown",
   "metadata": {},
   "source": [
    "This function is otherwise called the \"Squared error function\", or \"Mean squared error\". The mean is halved <b>(1/2)</b> as a convenience for the computation of the gradient descent, as the derivative term of the square function will cancel out the <b>1/2</b> term."
   ]
  },
  {
   "cell_type": "markdown",
   "metadata": {},
   "source": [
    "### Useful resources:"
   ]
  },
  {
   "cell_type": "markdown",
   "metadata": {},
   "source": [
    "<ol>\n",
    "    <li>\n",
    "        <strong><a href=\"http://mccormickml.com/2014/03/04/gradient-descent-derivation/\">Gradient Descent Derivation</a></strong>\n",
    "    </li>\n",
    "</ol>"
   ]
  },
  {
   "cell_type": "code",
   "execution_count": null,
   "metadata": {},
   "outputs": [],
   "source": []
  }
 ],
 "metadata": {
  "kernelspec": {
   "display_name": "Python 3 (ipykernel)",
   "language": "python",
   "name": "python3"
  },
  "language_info": {
   "codemirror_mode": {
    "name": "ipython",
    "version": 3
   },
   "file_extension": ".py",
   "mimetype": "text/x-python",
   "name": "python",
   "nbconvert_exporter": "python",
   "pygments_lexer": "ipython3",
   "version": "3.10.2"
  }
 },
 "nbformat": 4,
 "nbformat_minor": 4
}
