{
 "cells": [
  {
   "cell_type": "markdown",
   "metadata": {},
   "source": [
    "<center><font size=6 color=\"#00416d\">Gradient Descent</font></center>"
   ]
  },
  {
   "cell_type": "markdown",
   "metadata": {},
   "source": [
    "<p>We have our hypothesis function and we have a way of measuring how well it fits into the data. <mark style=\"background-color: #ffb0b0;\">Now we need to estimate the <a href=\"http://localhost:8888/notebooks/chap01_basics_of_ML/2_Model_Cost_Functions/2_Cost_Function.ipynb\">parameters in the hypothesis function</a>. That's where gradient descent comes in.</mark>. It turns out gradient descent is a more general algorithm, and is used not only in linear regression. It's actually used all over the place in machine learning.</p>"
   ]
  },
  {
   "cell_type": "markdown",
   "metadata": {},
   "source": [
    "<p>Imagine that we graph our hypothesis function based on its fields θ<sub>0</sub>and θ<sub>1</sub>\n",
    "  (actually we are graphing the cost function as a function of the parameter estimates). <mark style=\"background-color: #ffb0b0;\">We are not graphing x and y itself, but the parameters range(θ<sub>0</sub>and θ<sub>1</sub>) of our hypothesis function and the cost(J(θ<sub>0</sub>,θ<sub>1</sub>)) resulting from selecting a particular set of parameters.</mark>\n",
    "\n",
    "</p>"
   ]
  },
  {
   "cell_type": "markdown",
   "metadata": {},
   "source": [
    "<p>We put θ<sub>0</sub>, on the x axis and θ<sub>1</sub> on the y axis, with the cost function on the vertical z axis. <mark style=\"background-color: #ffb0b0;\">The points on our graph will be the result of the cost function using our hypothesis with those specific theta parameters</mark>. The graph below depicts such a setup.</p>"
   ]
  },
  {
   "cell_type": "markdown",
   "metadata": {},
   "source": [
    "<img src=\"images/gradient_decent.png\" alt=\"Drawing\" style=\"width: 800px;\"/>"
   ]
  },
  {
   "cell_type": "markdown",
   "metadata": {},
   "source": [
    "<p>We will know that we have succeeded when our cost function is at the very bottom of the pits in our graph, i.e. when its value is the minimum. The red arrows show the minimum points in the graph.</p>"
   ]
  },
  {
   "cell_type": "markdown",
   "metadata": {},
   "source": [
    "<p>The way we do this is by taking the derivative (the tangential line to a function) of our cost function. The slope of the tangent is the derivative at that point and it will give us a direction to move towards. We make steps down the cost function in the direction with the steepest descent. <mark style=\"background-color: #ffb0b0;\">The size of each step is determined by the parameter α, which is called the learning rate </mark></p>"
   ]
  },
  {
   "cell_type": "markdown",
   "metadata": {},
   "source": [
    "<p>For example, the distance between each 'star' in the graph above represents a step determined by our parameter α. <mark style=\"background-color: #ffb0b0;\"> A smaller α would result in a smaller step and a larger α results in a larger step </mark>. The direction in which the step is taken is determined by the partial derivative of J(θ<sub>0</sub>,θ<sub>1</sub>) . Depending on where one starts on the graph, one could end up at different points. The image above shows us two different starting points that end up in two different places. </p>"
   ]
  },
  {
   "cell_type": "markdown",
   "metadata": {},
   "source": [
    "<p>The gradient descent algorithm is: </p>\n",
    "<p>repeat until convergence: </p>\n",
    "θ<sub>j</sub> := θ<sub>j</sub> -  α ∂(J(θ<sub>0</sub>,θ<sub>1</sub>))/∂θ<sub>j</sub>\n"
   ]
  },
  {
   "cell_type": "markdown",
   "metadata": {},
   "source": [
    "where,\n",
    "\n",
    "j=0,1 represents the feature index number.\n",
    "\n",
    ":= is called assignment operator\n",
    "\n",
    "α is The size of each step is determined by the parameter α, which is called the learning rate"
   ]
  },
  {
   "cell_type": "markdown",
   "metadata": {},
   "source": [
    "At each iteration j, one should simultaneously update the parameters θ<sub>0</sub>,θ<sub>1</sub>...θ<sub>n</sub>"
   ]
  },
  {
   "cell_type": "markdown",
   "metadata": {},
   "source": [
    "### Correct simulatanious update"
   ]
  },
  {
   "cell_type": "markdown",
   "metadata": {},
   "source": [
    "temp0  := θ<sub>0</sub> -  α ∂(J(θ<sub>0</sub>,θ<sub>1</sub>))/∂θ<sub>0</sub> <br>\n",
    "temp1  := θ<sub>1</sub> -  α ∂(J(θ<sub>0</sub>,θ<sub>1</sub>))/∂θ<sub>1</sub> <br>\n",
    "θ<sub>0</sub> := temp0 <br>\n",
    "θ<sub>1</sub> := temp1"
   ]
  },
  {
   "cell_type": "markdown",
   "metadata": {},
   "source": [
    "### In-Correct simulatanious update"
   ]
  },
  {
   "cell_type": "markdown",
   "metadata": {},
   "source": [
    "temp0  := θ<sub>0</sub> -  α ∂(J(θ<sub>0</sub>,θ<sub>1</sub>))/∂θ<sub>0</sub> <br>\n",
    "θ<sub>0</sub> := temp0 <br>\n",
    "temp1  := θ<sub>1</sub> -  α ∂(J(θ<sub>0</sub>,θ<sub>1</sub>))/∂θ<sub>1</sub> <br>\n",
    "θ<sub>1</sub> := temp1"
   ]
  },
  {
   "cell_type": "code",
   "execution_count": null,
   "metadata": {},
   "outputs": [],
   "source": []
  }
 ],
 "metadata": {
  "kernelspec": {
   "display_name": "Python 3",
   "language": "python",
   "name": "python3"
  },
  "language_info": {
   "codemirror_mode": {
    "name": "ipython",
    "version": 3
   },
   "file_extension": ".py",
   "mimetype": "text/x-python",
   "name": "python",
   "nbconvert_exporter": "python",
   "pygments_lexer": "ipython3",
   "version": "3.8.3"
  }
 },
 "nbformat": 4,
 "nbformat_minor": 4
}
