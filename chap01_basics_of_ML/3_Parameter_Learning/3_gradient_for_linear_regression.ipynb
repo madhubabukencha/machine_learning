{
 "cells": [
  {
   "cell_type": "markdown",
   "metadata": {},
   "source": [
    "<center><font size=6 color=\"#00416d\">Gradient Descent For Linear Regression</font></center>"
   ]
  },
  {
   "cell_type": "markdown",
   "metadata": {},
   "source": [
    "<p>In this chapter we are going to see how to apply Gradient Descent to minize our squared error Cost Function.</p>"
   ]
  },
  {
   "cell_type": "markdown",
   "metadata": {},
   "source": [
    "<font size=5 color=\"color:#290001;\">Little History:</font>"
   ]
  },
  {
   "cell_type": "markdown",
   "metadata": {},
   "source": [
    "<b>Gradient Descent algorithm:</b><br>\n",
    "repear until convergence { <br>\n",
    "&emsp;&emsp;θ<sub>j</sub> := θ<sub>j</sub> -  α ∂(J(θ<sub>0</sub>,θ<sub>1</sub>))/∂θ<sub>j</sub> <br>\n",
    "&emsp;&emsp;for(j = 1 and j=0) <br>\n",
    "}"
   ]
  },
  {
   "cell_type": "markdown",
   "metadata": {},
   "source": [
    "<b> Linear Regression Model:</b> <br>\n",
    "<strong>Hypothesis</strong>: h<sub>θ</sub>(x) = θ <sub>0</sub> + θ <sub>1</sub>x <br>\n"
   ]
  },
  {
   "cell_type": "code",
   "execution_count": 1,
   "metadata": {
    "scrolled": false
   },
   "outputs": [
    {
     "data": {
      "text/html": [
       "<style>.sigma {position: relative;font-size: 2.5em;display: inline-block;line-height: .7em;vertical-align: middle;} .sigma:before {font-size: 12px;display: block;position absolute;left: 0;top: 0;content: \"m\";width: 22px;text-align: center;}.sigma:after {font-size: 12px;display: block;position absolute;left: 0;bottom: 0;content: \"i = 1\";width: 27px;text-align: center;}</style><b>Cost Function:</b>J(θ<sub>0</sub>, θ<sub>1</sub>)=(1/2m)<span class='sigma'>&Sigma;</span>(h<sub>θ</sub>(x <sub>i</sub>)-y<sub>i</sub>)<sup>2</sup>"
      ],
      "text/plain": [
       "<IPython.core.display.HTML object>"
      ]
     },
     "execution_count": 1,
     "metadata": {},
     "output_type": "execute_result"
    }
   ],
   "source": [
    "from IPython.display import HTML\n",
    "style = '<style>.sigma {position: relative;font-size: 2.5em;display: inline-block;line-height: .7em;vertical-align: middle;} .sigma:before {font-size: 12px;display: block;position absolute;left: 0;top: 0;content: \"m\";width: 22px;text-align: center;}.sigma:after {font-size: 12px;display: block;position absolute;left: 0;bottom: 0;content: \"i = 1\";width: 27px;text-align: center;}</style>'\n",
    "cost_function = \"<b>Cost Function:</b>J(θ<sub>0</sub>, θ<sub>1</sub>)=(1/2m)<span class='sigma'>&Sigma;</span>(h<sub>θ</sub>(x <sub>i</sub>)-y<sub>i</sub>)<sup>2</sup>\"\n",
    "HTML(style+cost_function)"
   ]
  },
  {
   "cell_type": "markdown",
   "metadata": {},
   "source": [
    "<font size=5 color=\"color:#290001;\">Expanding  ∂(J(θ<sub>0</sub>,θ<sub>1</sub>))/∂θ<sub>j</sub>:</font>"
   ]
  },
  {
   "cell_type": "code",
   "execution_count": 2,
   "metadata": {},
   "outputs": [
    {
     "data": {
      "text/html": [
       "<style>.sigma {position: relative;font-size: 2.5em;display: inline-block;line-height: .7em;vertical-align: middle;} .sigma:before {font-size: 12px;display: block;position absolute;left: 0;top: 0;content: \"m\";width: 22px;text-align: center;}.sigma:after {font-size: 12px;display: block;position absolute;left: 0;bottom: 0;content: \"i = 1\";width: 27px;text-align: center;}</style>∂(J(θ<sub>0</sub>,θ<sub>1</sub>))/∂θ<sub>j</sub>=(∂/∂θ<sub>j</sub>)(1/2m)<span class='sigma'>&Sigma;</span>(h<sub>θ</sub>(x <sub>i</sub>)-y<sub>i</sub>)<sup>2</sup>"
      ],
      "text/plain": [
       "<IPython.core.display.HTML object>"
      ]
     },
     "execution_count": 2,
     "metadata": {},
     "output_type": "execute_result"
    }
   ],
   "source": [
    "from IPython.display import HTML\n",
    "style = '<style>.sigma {position: relative;font-size: 2.5em;display: inline-block;line-height: .7em;vertical-align: middle;} .sigma:before {font-size: 12px;display: block;position absolute;left: 0;top: 0;content: \"m\";width: 22px;text-align: center;}.sigma:after {font-size: 12px;display: block;position absolute;left: 0;bottom: 0;content: \"i = 1\";width: 27px;text-align: center;}</style>'\n",
    "cost_function = \"∂(J(θ<sub>0</sub>,θ<sub>1</sub>))/∂θ<sub>j</sub>=(∂/∂θ<sub>j</sub>)(1/2m)<span class='sigma'>&Sigma;</span>(h<sub>θ</sub>(x <sub>i</sub>)-y<sub>i</sub>)<sup>2</sup>\"\n",
    "HTML(style+cost_function)"
   ]
  },
  {
   "cell_type": "code",
   "execution_count": 3,
   "metadata": {},
   "outputs": [
    {
     "data": {
      "text/html": [
       "<style>.sigma {position: relative;font-size: 2.5em;display: inline-block;line-height: .7em;vertical-align: middle;} .sigma:before {font-size: 12px;display: block;position absolute;left: 0;top: 0;content: \"m\";width: 22px;text-align: center;}.sigma:after {font-size: 12px;display: block;position absolute;left: 0;bottom: 0;content: \"i = 1\";width: 27px;text-align: center;}</style>∂(J(θ<sub>0</sub>,θ<sub>1</sub>))/∂θ<sub>j</sub>=(∂/∂θ<sub>j</sub>)(1/2m)<span class='sigma'>&Sigma;</span>(θ <sub>0</sub> + θ <sub>1</sub>x <sub>i</sub>)-y<sub>i</sub>)<sup>2</sup>"
      ],
      "text/plain": [
       "<IPython.core.display.HTML object>"
      ]
     },
     "execution_count": 3,
     "metadata": {},
     "output_type": "execute_result"
    }
   ],
   "source": [
    "from IPython.display import HTML\n",
    "style = '<style>.sigma {position: relative;font-size: 2.5em;display: inline-block;line-height: .7em;vertical-align: middle;} .sigma:before {font-size: 12px;display: block;position absolute;left: 0;top: 0;content: \"m\";width: 22px;text-align: center;}.sigma:after {font-size: 12px;display: block;position absolute;left: 0;bottom: 0;content: \"i = 1\";width: 27px;text-align: center;}</style>'\n",
    "cost_function = \"∂(J(θ<sub>0</sub>,θ<sub>1</sub>))/∂θ<sub>j</sub>=(∂/∂θ<sub>j</sub>)(1/2m)<span class='sigma'>&Sigma;</span>(θ <sub>0</sub> + θ <sub>1</sub>x <sub>i</sub>)-y<sub>i</sub>)<sup>2</sup>\"\n",
    "HTML(style+cost_function)"
   ]
  },
  {
   "cell_type": "markdown",
   "metadata": {},
   "source": [
    "<font size=5 color=\"color:#290001;\">Partial derivatives for θ<sub>0</sub> and θ<sub>1</sub>:</font>"
   ]
  },
  {
   "cell_type": "markdown",
   "metadata": {},
   "source": [
    "<b>For θ<sub>0</sub>:</b>"
   ]
  },
  {
   "cell_type": "code",
   "execution_count": 4,
   "metadata": {},
   "outputs": [
    {
     "data": {
      "text/html": [
       "<style>.sigma {position: relative;font-size: 2.5em;display: inline-block;line-height: .7em;vertical-align: middle;} .sigma:before {font-size: 12px;display: block;position absolute;left: 0;top: 0;content: \"m\";width: 22px;text-align: center;}.sigma:after {font-size: 12px;display: block;position absolute;left: 0;bottom: 0;content: \"i = 1\";width: 27px;text-align: center;}</style>∂(J(θ<sub>0</sub>,θ<sub>1</sub>))/∂θ<sub>j</sub>=(1/m)<span class='sigma'>&Sigma;</span>(h<sub>θ</sub>(x <sub>i</sub>)-y<sub>i</sub>)"
      ],
      "text/plain": [
       "<IPython.core.display.HTML object>"
      ]
     },
     "execution_count": 4,
     "metadata": {},
     "output_type": "execute_result"
    }
   ],
   "source": [
    "from IPython.display import HTML\n",
    "style = '<style>.sigma {position: relative;font-size: 2.5em;display: inline-block;line-height: .7em;vertical-align: middle;} .sigma:before {font-size: 12px;display: block;position absolute;left: 0;top: 0;content: \"m\";width: 22px;text-align: center;}.sigma:after {font-size: 12px;display: block;position absolute;left: 0;bottom: 0;content: \"i = 1\";width: 27px;text-align: center;}</style>'\n",
    "cost_function = \"∂(J(θ<sub>0</sub>,θ<sub>1</sub>))/∂θ<sub>j</sub>=(1/m)<span class='sigma'>&Sigma;</span>(h<sub>θ</sub>(x <sub>i</sub>)-y<sub>i</sub>)\"\n",
    "HTML(style+cost_function)"
   ]
  },
  {
   "cell_type": "markdown",
   "metadata": {},
   "source": [
    "<b>For θ<sub>1</sub></b>:"
   ]
  },
  {
   "cell_type": "code",
   "execution_count": 5,
   "metadata": {},
   "outputs": [
    {
     "data": {
      "text/html": [
       "<style>.sigma {position: relative;font-size: 2.5em;display: inline-block;line-height: .7em;vertical-align: middle;} .sigma:before {font-size: 12px;display: block;position absolute;left: 0;top: 0;content: \"m\";width: 22px;text-align: center;}.sigma:after {font-size: 12px;display: block;position absolute;left: 0;bottom: 0;content: \"i = 1\";width: 27px;text-align: center;}</style>∂(J(θ<sub>0</sub>,θ<sub>1</sub>))/∂θ<sub>j</sub>=(1/m)<span class='sigma'>&Sigma;</span>((h<sub>θ</sub>(x <sub>i</sub>)-y<sub>i</sub>).x<sub>i</sub>)"
      ],
      "text/plain": [
       "<IPython.core.display.HTML object>"
      ]
     },
     "execution_count": 5,
     "metadata": {},
     "output_type": "execute_result"
    }
   ],
   "source": [
    "from IPython.display import HTML\n",
    "style = '<style>.sigma {position: relative;font-size: 2.5em;display: inline-block;line-height: .7em;vertical-align: middle;} .sigma:before {font-size: 12px;display: block;position absolute;left: 0;top: 0;content: \"m\";width: 22px;text-align: center;}.sigma:after {font-size: 12px;display: block;position absolute;left: 0;bottom: 0;content: \"i = 1\";width: 27px;text-align: center;}</style>'\n",
    "cost_function = \"∂(J(θ<sub>0</sub>,θ<sub>1</sub>))/∂θ<sub>j</sub>=(1/m)<span class='sigma'>&Sigma;</span>((h<sub>θ</sub>(x <sub>i</sub>)-y<sub>i</sub>).x<sub>i</sub>)\"\n",
    "HTML(style+cost_function)"
   ]
  },
  {
   "cell_type": "markdown",
   "metadata": {},
   "source": [
    "<font size=5 color=\"color:#290001;\">Applying Gradient Descent for Linear Regression:</font>"
   ]
  },
  {
   "cell_type": "markdown",
   "metadata": {},
   "source": [
    "<p>When specifically applied to the case of linear regression, a new form of the gradient descent equation can be derived. We can substitute our actual cost function and our actual hypothesis function and modify the equation to:</p>"
   ]
  },
  {
   "cell_type": "markdown",
   "metadata": {},
   "source": [
    "<img src=\"images/formulas.png\" alt=\"Drawing\" style=\"width: 600px;\"/>"
   ]
  },
  {
   "cell_type": "markdown",
   "metadata": {},
   "source": [
    "### For addition information:\n",
    "<a href=\"https://www.coursera.org/learn/machine-learning/supplement/U90DX/gradient-descent-for-linear-regression\"> Gradient Descent for Linear Regression</a>"
   ]
  },
  {
   "cell_type": "code",
   "execution_count": null,
   "metadata": {},
   "outputs": [],
   "source": []
  }
 ],
 "metadata": {
  "celltoolbar": "Raw Cell Format",
  "kernelspec": {
   "display_name": "Python 3",
   "language": "python",
   "name": "python3"
  },
  "language_info": {
   "codemirror_mode": {
    "name": "ipython",
    "version": 3
   },
   "file_extension": ".py",
   "mimetype": "text/x-python",
   "name": "python",
   "nbconvert_exporter": "python",
   "pygments_lexer": "ipython3",
   "version": "3.8.3"
  }
 },
 "nbformat": 4,
 "nbformat_minor": 4
}
