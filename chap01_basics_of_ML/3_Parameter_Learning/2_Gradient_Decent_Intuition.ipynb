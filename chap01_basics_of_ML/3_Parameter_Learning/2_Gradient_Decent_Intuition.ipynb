{
 "cells": [
  {
   "cell_type": "markdown",
   "metadata": {},
   "source": [
    "<center><font size=6 color=\"#00416d\">Gradient Descent Intuition</font></center>"
   ]
  },
  {
   "cell_type": "markdown",
   "metadata": {},
   "source": [
    "<p>When we use single parameter θ<sub>1</sub> and plotted Cost Function to implement Gradient Decent then our formula of Gradient Descent for a single parameter was: <br>\n",
    "<code>repeat until convergence {\n",
    "    θ<sub>1</sub> := θ<sub>1</sub> -  α ∂(J(θ<sub>1</sub>))/∂θ<sub>1</sub>\n",
    "}</code></p>"
   ]
  },
  {
   "cell_type": "markdown",
   "metadata": {},
   "source": [
    "<p> Regardless of the slope's sign for <b>∂(J(θ<sub>1</sub>))/∂θ<sub>1</sub></b>, θ<sub>1</sub> eventually converges(reaches) to its minimum value.  <mark style=\"background-color: #ffb0b0;\">The following graph shows that when the slope is negative, the value of θ<sub>1</sub> increases and when it is positive, the value of θ<sub>1</sub> decreases  </mark>.</p>\n",
    "<img src=\"images/slops.png\" alt=\"Drawing\" style=\"width: 800px;\"/>"
   ]
  },
  {
   "cell_type": "markdown",
   "metadata": {},
   "source": [
    "On a side note, we should adjust our parameter α to ensure that the gradient descent algorithm converges in a reasonable time. Failure to converge or too much time to obtain the minimum value imply that our step size is wrong."
   ]
  },
  {
   "cell_type": "markdown",
   "metadata": {},
   "source": [
    "<img src=\"images/learning_rate_alpha.png\" alt=\"Drawing\" style=\"width: 800px;\"/>"
   ]
  },
  {
   "cell_type": "markdown",
   "metadata": {},
   "source": [
    "<p><b>How does gradient descent converge with a fixed step size α?</b><br>\n",
    "The intuition behind the convergence is that ∂(J(θ<sub>1</sub>))/∂θ<sub>1</sub> approaches 0 as we approach the bottom of our convex function. At the minimum, the derivative will always be 0 and thus we get:<p>"
   ]
  },
  {
   "cell_type": "markdown",
   "metadata": {},
   "source": [
    "θ<sub>1</sub> := θ<sub>1</sub> -  α . 0"
   ]
  },
  {
   "cell_type": "markdown",
   "metadata": {},
   "source": [
    "<img src=\"images/learning_rate_fixed.png\" alt=\"Drawing\" style=\"width: 800px;\"/>"
   ]
  },
  {
   "cell_type": "code",
   "execution_count": null,
   "metadata": {},
   "outputs": [],
   "source": []
  }
 ],
 "metadata": {
  "kernelspec": {
   "display_name": "Python 3 (ipykernel)",
   "language": "python",
   "name": "python3"
  },
  "language_info": {
   "codemirror_mode": {
    "name": "ipython",
    "version": 3
   },
   "file_extension": ".py",
   "mimetype": "text/x-python",
   "name": "python",
   "nbconvert_exporter": "python",
   "pygments_lexer": "ipython3",
   "version": "3.11.2"
  }
 },
 "nbformat": 4,
 "nbformat_minor": 4
}
