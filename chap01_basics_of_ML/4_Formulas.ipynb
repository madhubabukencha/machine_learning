{
 "cells": [
  {
   "cell_type": "markdown",
   "metadata": {},
   "source": [
    "<center><font size=6 color=\"#00416d\">Week-1 Formulas</font></center>"
   ]
  },
  {
   "cell_type": "markdown",
   "metadata": {},
   "source": [
    "<b>NOTE:</b> These are the formulas to implement Linear Regression when we have single feature"
   ]
  },
  {
   "cell_type": "markdown",
   "metadata": {},
   "source": [
    "<font size=5 color=\"color:#290001;\">Hypothesis:</font> <br>"
   ]
  },
  {
   "cell_type": "markdown",
   "metadata": {},
   "source": [
    "\n",
    "<b>h</b> is an hypothesis function. It is represented as <b>h<sub>θ</sub>(x) = θ<sub>0</sub>+θ<sub>1</sub>x</b> <br>\n",
    "<strong>θ<sub>i's</sub></strong>: are the parameters <br>\n",
    "<p> This is called <b>Linear Regression with one Variable or Univariate Linear Regression</b></p>"
   ]
  },
  {
   "cell_type": "markdown",
   "metadata": {},
   "source": [
    "<font size=5 color=\"color:#290001;\">Cost Function</font> <br>"
   ]
  },
  {
   "cell_type": "markdown",
   "metadata": {},
   "source": [
    "<p>We can measure the accuracy of our hypothesis function by using a cost function (we will understand this in next topic). This takes an average difference (actually a fancier version of an average) of all the results of the hypothesis with inputs from x's and the actual output y's.</p>"
   ]
  },
  {
   "cell_type": "markdown",
   "metadata": {},
   "source": [
    "<b>mean of the squares</b> = $\\displaystyle \\sum_{i=1}^{m} \\dfrac{(h^{(i)} - y^{(i)})^2}{m}$"
   ]
  },
  {
   "cell_type": "markdown",
   "metadata": {},
   "source": [
    "<b>To minize output: $\\displaystyle J(\\theta_{0}, \\theta_{1}) = \\dfrac{1}{2m} \\sum_{i=1}^{m} {(h^{(i)} - y^{(i)})^2}$"
   ]
  },
  {
   "cell_type": "markdown",
   "metadata": {},
   "source": [
    "This function is otherwise called the \"Squared error function\", or \"Mean squared error\""
   ]
  },
  {
   "cell_type": "markdown",
   "metadata": {},
   "source": [
    "<font size=5 color=\"color:#290001;\">Gradient Descent:</font> <br>"
   ]
  },
  {
   "cell_type": "markdown",
   "metadata": {},
   "source": [
    "We have our hypothesis function and we have a way of measuring how well it fits into the data. Now we need to estimate the parameters in the hypothesis function. That's where gradient descent comes in.. It turns out gradient descent is a more general algorithm, and is used not only in linear regression. It's actually used all over the place in machine learning."
   ]
  },
  {
   "cell_type": "markdown",
   "metadata": {},
   "source": [
    "<b>Gradient Descent algorithm:</b><br>\n",
    "repear until convergence { <br>\n",
    "&emsp;&emsp;θ<sub>j</sub> := θ<sub>j</sub> -  α ∂(J(θ<sub>0</sub>,θ<sub>1</sub>))/∂θ<sub>j</sub> <br>\n",
    "&emsp;&emsp;for(j = 1 and j=0) <br>\n",
    "}"
   ]
  },
  {
   "cell_type": "markdown",
   "metadata": {},
   "source": [
    "where,\n",
    "\n",
    "j=0,1 represents the feature index number.\n",
    "\n",
    ":= is called assignment operator\n",
    "\n",
    "α is The size of each step is determined by the parameter α, which is called the learning rate\n",
    "\n",
    "At each iteration j, one should simultaneously update the parameters θ<sub>0</sub>,θ<sub>1</sub>...θ<sub>n</sub>"
   ]
  },
  {
   "cell_type": "markdown",
   "metadata": {},
   "source": [
    "<b>Implementation in the looks like below:</b> <br>\n",
    "<code>repeat until convergence {\n",
    "    temp0  := θ<sub>0</sub> -  α ∂(J(θ<sub>0</sub>,θ<sub>1</sub>))/∂θ<sub>0</sub> <br>\n",
    "    temp1  := θ<sub>1</sub> -  α ∂(J(θ<sub>0</sub>,θ<sub>1</sub>))/∂θ<sub>1</sub> <br>\n",
    "    θ<sub>0</sub> := temp0 <br>\n",
    "    θ<sub>1</sub> := temp1\n",
    "}</code>"
   ]
  },
  {
   "cell_type": "markdown",
   "metadata": {},
   "source": [
    "<b>Final version of the Gradient Decent formula looks like below:</b>\n",
    "<img src=\"3_Parameter_Learning/images/formulas.png\" alt=\"Gradient Decent formula\" style=\"width: 600px;\"/>"
   ]
  },
  {
   "cell_type": "code",
   "execution_count": null,
   "metadata": {},
   "outputs": [],
   "source": []
  }
 ],
 "metadata": {
  "kernelspec": {
   "display_name": "Python 3",
   "language": "python",
   "name": "python3"
  },
  "language_info": {
   "codemirror_mode": {
    "name": "ipython",
    "version": 3
   },
   "file_extension": ".py",
   "mimetype": "text/x-python",
   "name": "python",
   "nbconvert_exporter": "python",
   "pygments_lexer": "ipython3",
   "version": "3.8.3"
  }
 },
 "nbformat": 4,
 "nbformat_minor": 4
}
