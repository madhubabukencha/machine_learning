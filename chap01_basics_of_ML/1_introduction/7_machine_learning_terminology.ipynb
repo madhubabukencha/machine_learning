{
 "cells": [
  {
   "cell_type": "markdown",
   "id": "c81cca6a",
   "metadata": {},
   "source": [
    "<p style=\"color:#153462; \n",
    "          font-weight: bold; \n",
    "          font-size: 30px; \n",
    "          font-family: Gill Sans, sans-serif; \n",
    "          text-align: center;\">\n",
    "          Machine Learning Terminology</p>"
   ]
  },
  {
   "cell_type": "markdown",
   "id": "0c028044",
   "metadata": {},
   "source": [
    "<ul>\n",
    "    <li>\n",
    "        <b>Training Example:</b> <br>\n",
    "        A row in a table representing the dataset and synonymous with an \n",
    "        obervation, record, instance or sample\n",
    "    </li>\n",
    "    <li>\n",
    "        <b>Training:</b><br>\n",
    "        Model fitting, for parametric models similar to parameter estimation.\n",
    "    </li>\n",
    "    <li>\n",
    "        <b>Feature(x):</b><br>\n",
    "        A column in data table or data matrix. Synonymus with predictor, variable,\n",
    "        input, attribute or covariate\n",
    "    </li>\n",
    "    <li>\n",
    "        <b>Target(y):</b> <br>\n",
    "        Synonymous with outcome, output, response variable, dependent variable, (class) lable\n",
    "        and ground truth\n",
    "    </li>\n",
    "    <li>\n",
    "        <b> Loss Function:</b><br>\n",
    "        Often used synonymously with a <i>cost</i> function. Sometimes loss function also\n",
    "        called <i>error</i> function. In some literatures the term \"loss\" refers to the loss measured for single data\n",
    "        point and the <i>cost</i> is a measurement that computes the loss(average or summed) over the entire dataset.\n",
    "    </li>\n",
    "    <li>\n",
    "        <b>Noise:</b><br>\n",
    "        Noise (in the data science space) is unwanted data items, features or records which don’t help in explaining\n",
    "        the feature itself, or the relationship between feature & target. Noise often causes the algorithms to miss\n",
    "        out patterns in the data.\n",
    "    </li>\n",
    "    <li>\n",
    "        <b>Sampling Noise:</b><br>\n",
    "        If the sample data is too small, we will have <i>sampling noise</i>. In my opinion it happens because if the \n",
    "        data is small it not possible for the model to acurately generalize on data. If we introduce some more data points\n",
    "        this model might get fail becuase it consumed noise data from the small data set.\n",
    "    </li>\n",
    "    <li>\n",
    "        <b> Sampling Bias: </b><br>\n",
    "        Even very large samples can be nonrepesentative(becomes not proper data sets) if the sampling method is flawed.\n",
    "    </li>\n",
    "</ul>"
   ]
  },
  {
   "cell_type": "code",
   "execution_count": null,
   "id": "ee9b8c77",
   "metadata": {},
   "outputs": [],
   "source": []
  }
 ],
 "metadata": {
  "kernelspec": {
   "display_name": "Python 3 (ipykernel)",
   "language": "python",
   "name": "python3"
  },
  "language_info": {
   "codemirror_mode": {
    "name": "ipython",
    "version": 3
   },
   "file_extension": ".py",
   "mimetype": "text/x-python",
   "name": "python",
   "nbconvert_exporter": "python",
   "pygments_lexer": "ipython3",
   "version": "3.10.2"
  }
 },
 "nbformat": 4,
 "nbformat_minor": 5
}
