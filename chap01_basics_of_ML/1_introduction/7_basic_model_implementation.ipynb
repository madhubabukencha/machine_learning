{
 "cells": [
  {
<<<<<<< HEAD
   "cell_type": "markdown",
   "id": "72f1b465-6b37-4625-8461-9e0602cad8c3",
   "metadata": {},
   "source": [
    "#### Importing & Verifying Packages"
   ]
  },
  {
   "cell_type": "code",
   "execution_count": 1,
   "id": "d4ccbfae",
   "metadata": {
    "tags": []
   },
=======
   "cell_type": "code",
   "execution_count": 5,
   "id": "d4ccbfae",
   "metadata": {},
>>>>>>> ce22e081988eebcee76d845bf6050a3a5f50c7fc
   "outputs": [],
   "source": [
    "# Checking python version\n",
    "import sys\n",
    "assert sys.version_info >= (3, 10)"
   ]
  },
  {
   "cell_type": "code",
<<<<<<< HEAD
   "execution_count": 2,
   "id": "0e5fe928",
   "metadata": {
    "tags": []
   },
=======
   "execution_count": 7,
   "id": "0e5fe928",
   "metadata": {},
>>>>>>> ce22e081988eebcee76d845bf6050a3a5f50c7fc
   "outputs": [],
   "source": [
    "# Checking sklearn package version\n",
    "from packaging import version\n",
    "import sklearn"
   ]
  },
  {
   "cell_type": "code",
<<<<<<< HEAD
   "execution_count": 3,
   "id": "8c7eb662",
   "metadata": {
    "tags": []
   },
=======
   "execution_count": 22,
   "id": "8c7eb662",
   "metadata": {},
>>>>>>> ce22e081988eebcee76d845bf6050a3a5f50c7fc
   "outputs": [],
   "source": [
    "assert version.parse(sklearn.__version__) >= version.parse('1.1.1')"
   ]
  },
  {
   "cell_type": "code",
<<<<<<< HEAD
   "execution_count": 4,
   "id": "788c72d1",
   "metadata": {
    "tags": []
   },
=======
   "execution_count": 26,
   "id": "788c72d1",
   "metadata": {},
>>>>>>> ce22e081988eebcee76d845bf6050a3a5f50c7fc
   "outputs": [],
   "source": [
    "%matplotlib inline\n",
    "import matplotlib.pyplot as plt"
   ]
  },
  {
   "cell_type": "code",
<<<<<<< HEAD
   "execution_count": 5,
   "id": "5cb1ae71",
   "metadata": {
    "tags": []
   },
=======
   "execution_count": 27,
   "id": "5cb1ae71",
   "metadata": {},
>>>>>>> ce22e081988eebcee76d845bf6050a3a5f50c7fc
   "outputs": [],
   "source": [
    "import pandas as pd\n",
    "# Selecting LinearRegression model\n",
    "from sklearn.linear_model import LinearRegression"
   ]
  },
  {
<<<<<<< HEAD
   "cell_type": "markdown",
   "id": "2ebf61c0-0446-4666-902a-e4bb36ea3e73",
   "metadata": {},
   "source": [
    "#### Loading & Cleaning Data"
   ]
  },
  {
   "cell_type": "code",
   "execution_count": 10,
   "id": "a3a865aa",
   "metadata": {
    "tags": []
   },
=======
   "cell_type": "code",
   "execution_count": 29,
   "id": "a3a865aa",
   "metadata": {},
>>>>>>> ce22e081988eebcee76d845bf6050a3a5f50c7fc
   "outputs": [
    {
     "data": {
      "text/html": [
       "<div>\n",
       "<style scoped>\n",
       "    .dataframe tbody tr th:only-of-type {\n",
       "        vertical-align: middle;\n",
       "    }\n",
       "\n",
       "    .dataframe tbody tr th {\n",
       "        vertical-align: top;\n",
       "    }\n",
       "\n",
       "    .dataframe thead th {\n",
       "        text-align: right;\n",
       "    }\n",
       "</style>\n",
       "<table border=\"1\" class=\"dataframe\">\n",
       "  <thead>\n",
       "    <tr style=\"text-align: right;\">\n",
       "      <th></th>\n",
       "      <th>Country</th>\n",
       "      <th>GDP per capita (USD)</th>\n",
       "      <th>Life satisfaction</th>\n",
       "    </tr>\n",
       "  </thead>\n",
       "  <tbody>\n",
       "    <tr>\n",
       "      <th>0</th>\n",
       "      <td>Russia</td>\n",
       "      <td>26456.387938</td>\n",
       "      <td>5.8</td>\n",
       "    </tr>\n",
       "    <tr>\n",
       "      <th>1</th>\n",
       "      <td>Greece</td>\n",
       "      <td>27287.083401</td>\n",
       "      <td>5.4</td>\n",
       "    </tr>\n",
       "    <tr>\n",
       "      <th>2</th>\n",
       "      <td>Turkey</td>\n",
       "      <td>28384.987785</td>\n",
       "      <td>5.5</td>\n",
       "    </tr>\n",
       "    <tr>\n",
       "      <th>3</th>\n",
       "      <td>Latvia</td>\n",
       "      <td>29932.493910</td>\n",
       "      <td>5.9</td>\n",
       "    </tr>\n",
       "    <tr>\n",
       "      <th>4</th>\n",
       "      <td>Hungary</td>\n",
       "      <td>31007.768407</td>\n",
       "      <td>5.6</td>\n",
       "    </tr>\n",
       "  </tbody>\n",
       "</table>\n",
       "</div>"
      ],
      "text/plain": [
       "   Country  GDP per capita (USD)  Life satisfaction\n",
       "0   Russia          26456.387938                5.8\n",
       "1   Greece          27287.083401                5.4\n",
       "2   Turkey          28384.987785                5.5\n",
       "3   Latvia          29932.493910                5.9\n",
       "4  Hungary          31007.768407                5.6"
      ]
     },
<<<<<<< HEAD
     "execution_count": 10,
=======
     "execution_count": 29,
>>>>>>> ce22e081988eebcee76d845bf6050a3a5f50c7fc
     "metadata": {},
     "output_type": "execute_result"
    }
   ],
   "source": [
<<<<<<< HEAD
    "lifesat = pd.read_csv(\"data/life_sat.csv\")\n",
=======
    "lifesat = pd.read_csv(\"https://github.com/ageron/data/raw/main/lifesat/lifesat.csv\")\n",
>>>>>>> ce22e081988eebcee76d845bf6050a3a5f50c7fc
    "lifesat.head()"
   ]
  },
  {
   "cell_type": "code",
<<<<<<< HEAD
   "execution_count": 13,
   "id": "7211181a",
   "metadata": {
    "tags": []
   },
   "outputs": [],
   "source": [
    "# Selecting predictor/variable\n",
    "# Changing dimention from 1 to 2. Now it will have 27 rows and 1 column. Earlier it has only one row\n",
=======
   "execution_count": 70,
   "id": "7211181a",
   "metadata": {},
   "outputs": [],
   "source": [
    "# Selecting predictor/variable\n",
    "# Changing dimention from 1 to 2, it have 27 rows and 1 column. Earlier it has only one row\n",
>>>>>>> ce22e081988eebcee76d845bf6050a3a5f50c7fc
    "X = lifesat[\"GDP per capita (USD)\"].values.reshape(-1, 1)\n",
    "# Selecting response variable\n",
    "y = lifesat[\"Life satisfaction\"].values.reshape(-1, 1)"
   ]
  },
  {
   "cell_type": "code",
<<<<<<< HEAD
   "execution_count": 14,
   "id": "c409e195",
   "metadata": {
    "tags": []
   },
=======
   "execution_count": 35,
   "id": "c409e195",
   "metadata": {},
>>>>>>> ce22e081988eebcee76d845bf6050a3a5f50c7fc
   "outputs": [
    {
     "data": {
      "text/plain": [
       "(25000.0, 65000.0, 4.0, 9.0)"
      ]
     },
<<<<<<< HEAD
     "execution_count": 14,
=======
     "execution_count": 35,
>>>>>>> ce22e081988eebcee76d845bf6050a3a5f50c7fc
     "metadata": {},
     "output_type": "execute_result"
    },
    {
     "data": {
<<<<<<< HEAD
      "image/png": "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",
      "text/plain": [
       "<Figure size 640x480 with 1 Axes>"
      ]
     },
     "metadata": {},
=======
      "image/png": "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\n",
      "text/plain": [
       "<Figure size 432x288 with 1 Axes>"
      ]
     },
     "metadata": {
      "needs_background": "light"
     },
>>>>>>> ce22e081988eebcee76d845bf6050a3a5f50c7fc
     "output_type": "display_data"
    }
   ],
   "source": [
    "# Visualizing data\n",
    "lifesat.plot(kind=\"scatter\", grid=True, x=\"GDP per capita (USD)\", y=\"Life satisfaction\")\n",
    "plt.axis([25000, 65000, 4, 9])"
   ]
  },
  {
<<<<<<< HEAD
   "cell_type": "markdown",
   "id": "ce38382c-ea64-4582-96c1-e075fd903741",
   "metadata": {},
   "source": [
    "#### Building Model & Predicting"
   ]
  },
  {
   "cell_type": "code",
   "execution_count": 15,
   "id": "3cf05668",
   "metadata": {
    "tags": []
   },
=======
   "cell_type": "code",
   "execution_count": 71,
   "id": "3cf05668",
   "metadata": {},
>>>>>>> ce22e081988eebcee76d845bf6050a3a5f50c7fc
   "outputs": [
    {
     "data": {
      "text/html": [
       "<style>#sk-container-id-1 {color: black;background-color: white;}#sk-container-id-1 pre{padding: 0;}#sk-container-id-1 div.sk-toggleable {background-color: white;}#sk-container-id-1 label.sk-toggleable__label {cursor: pointer;display: block;width: 100%;margin-bottom: 0;padding: 0.3em;box-sizing: border-box;text-align: center;}#sk-container-id-1 label.sk-toggleable__label-arrow:before {content: \"▸\";float: left;margin-right: 0.25em;color: #696969;}#sk-container-id-1 label.sk-toggleable__label-arrow:hover:before {color: black;}#sk-container-id-1 div.sk-estimator:hover label.sk-toggleable__label-arrow:before {color: black;}#sk-container-id-1 div.sk-toggleable__content {max-height: 0;max-width: 0;overflow: hidden;text-align: left;background-color: #f0f8ff;}#sk-container-id-1 div.sk-toggleable__content pre {margin: 0.2em;color: black;border-radius: 0.25em;background-color: #f0f8ff;}#sk-container-id-1 input.sk-toggleable__control:checked~div.sk-toggleable__content {max-height: 200px;max-width: 100%;overflow: auto;}#sk-container-id-1 input.sk-toggleable__control:checked~label.sk-toggleable__label-arrow:before {content: \"▾\";}#sk-container-id-1 div.sk-estimator input.sk-toggleable__control:checked~label.sk-toggleable__label {background-color: #d4ebff;}#sk-container-id-1 div.sk-label input.sk-toggleable__control:checked~label.sk-toggleable__label {background-color: #d4ebff;}#sk-container-id-1 input.sk-hidden--visually {border: 0;clip: rect(1px 1px 1px 1px);clip: rect(1px, 1px, 1px, 1px);height: 1px;margin: -1px;overflow: hidden;padding: 0;position: absolute;width: 1px;}#sk-container-id-1 div.sk-estimator {font-family: monospace;background-color: #f0f8ff;border: 1px dotted black;border-radius: 0.25em;box-sizing: border-box;margin-bottom: 0.5em;}#sk-container-id-1 div.sk-estimator:hover {background-color: #d4ebff;}#sk-container-id-1 div.sk-parallel-item::after {content: \"\";width: 100%;border-bottom: 1px solid gray;flex-grow: 1;}#sk-container-id-1 div.sk-label:hover label.sk-toggleable__label {background-color: #d4ebff;}#sk-container-id-1 div.sk-serial::before {content: \"\";position: absolute;border-left: 1px solid gray;box-sizing: border-box;top: 0;bottom: 0;left: 50%;z-index: 0;}#sk-container-id-1 div.sk-serial {display: flex;flex-direction: column;align-items: center;background-color: white;padding-right: 0.2em;padding-left: 0.2em;position: relative;}#sk-container-id-1 div.sk-item {position: relative;z-index: 1;}#sk-container-id-1 div.sk-parallel {display: flex;align-items: stretch;justify-content: center;background-color: white;position: relative;}#sk-container-id-1 div.sk-item::before, #sk-container-id-1 div.sk-parallel-item::before {content: \"\";position: absolute;border-left: 1px solid gray;box-sizing: border-box;top: 0;bottom: 0;left: 50%;z-index: -1;}#sk-container-id-1 div.sk-parallel-item {display: flex;flex-direction: column;z-index: 1;position: relative;background-color: white;}#sk-container-id-1 div.sk-parallel-item:first-child::after {align-self: flex-end;width: 50%;}#sk-container-id-1 div.sk-parallel-item:last-child::after {align-self: flex-start;width: 50%;}#sk-container-id-1 div.sk-parallel-item:only-child::after {width: 0;}#sk-container-id-1 div.sk-dashed-wrapped {border: 1px dashed gray;margin: 0 0.4em 0.5em 0.4em;box-sizing: border-box;padding-bottom: 0.4em;background-color: white;}#sk-container-id-1 div.sk-label label {font-family: monospace;font-weight: bold;display: inline-block;line-height: 1.2em;}#sk-container-id-1 div.sk-label-container {text-align: center;}#sk-container-id-1 div.sk-container {/* jupyter's `normalize.less` sets `[hidden] { display: none; }` but bootstrap.min.css set `[hidden] { display: none !important; }` so we also need the `!important` here to be able to override the default hidden behavior on the sphinx rendered scikit-learn.org. See: https://github.com/scikit-learn/scikit-learn/issues/21755 */display: inline-block !important;position: relative;}#sk-container-id-1 div.sk-text-repr-fallback {display: none;}</style><div id=\"sk-container-id-1\" class=\"sk-top-container\"><div class=\"sk-text-repr-fallback\"><pre>LinearRegression()</pre><b>In a Jupyter environment, please rerun this cell to show the HTML representation or trust the notebook. <br />On GitHub, the HTML representation is unable to render, please try loading this page with nbviewer.org.</b></div><div class=\"sk-container\" hidden><div class=\"sk-item\"><div class=\"sk-estimator sk-toggleable\"><input class=\"sk-toggleable__control sk-hidden--visually\" id=\"sk-estimator-id-1\" type=\"checkbox\" checked><label for=\"sk-estimator-id-1\" class=\"sk-toggleable__label sk-toggleable__label-arrow\">LinearRegression</label><div class=\"sk-toggleable__content\"><pre>LinearRegression()</pre></div></div></div></div></div>"
      ],
      "text/plain": [
       "LinearRegression()"
      ]
     },
<<<<<<< HEAD
     "execution_count": 15,
=======
     "execution_count": 71,
>>>>>>> ce22e081988eebcee76d845bf6050a3a5f50c7fc
     "metadata": {},
     "output_type": "execute_result"
    }
   ],
   "source": [
    "# It seems Life satisfaction getting increased linearly as per GDP per Capita\n",
    "# We are selecting linear regression\n",
    "model = LinearRegression()\n",
    "model.fit(X, y)"
   ]
  },
  {
   "cell_type": "code",
<<<<<<< HEAD
   "execution_count": 22,
   "id": "74bef15a",
   "metadata": {
    "tags": []
   },
=======
   "execution_count": 77,
   "id": "74bef15a",
   "metadata": {},
>>>>>>> ce22e081988eebcee76d845bf6050a3a5f50c7fc
   "outputs": [
    {
     "data": {
      "text/plain": [
       "array([[5.7781429]])"
      ]
     },
<<<<<<< HEAD
     "execution_count": 22,
=======
     "execution_count": 77,
>>>>>>> ce22e081988eebcee76d845bf6050a3a5f50c7fc
     "metadata": {},
     "output_type": "execute_result"
    }
   ],
   "source": [
    "# real value is 5.9\n",
    "model.predict([[29932.49]])"
   ]
  },
  {
<<<<<<< HEAD
   "cell_type": "markdown",
   "id": "3ea5a548-7138-4abb-8ace-054293aeb1ba",
   "metadata": {},
   "source": [
    "<p style=\"text-align: justify; text-justify: inter-word;\">\n",
    "   <font size=3>\n",
    "       We have selected a linear model of life satisfaction with attribute, <i>GDP per capita</i>:<br>\n",
    "       $life\\_statisfaction = \\theta_{0} + \\theta_{1} \\times GDP\\_Per\\_Capita$ <br>\n",
    "       This model has two parameter $\\theta_{0}$ and $\\theta_{1}$. By tweeking these parameters, you can \n",
    "       make your model represent any linear function.\n",
    "   </font>\n",
    "</p>"
   ]
  },
  {
   "cell_type": "code",
   "execution_count": 27,
   "id": "eea9c99a",
   "metadata": {
    "tags": []
   },
   "outputs": [
    {
     "data": {
      "text/plain": [
       "array([[6.77889969e-05]])"
      ]
     },
     "execution_count": 27,
     "metadata": {},
     "output_type": "execute_result"
    }
   ],
   "source": [
    "theta_n = model.coef_\n",
    "theta_n"
   ]
  },
  {
   "cell_type": "code",
   "execution_count": 29,
   "id": "f37c1be2-5417-4835-ad07-0f47b3a62fd3",
   "metadata": {
    "tags": []
   },
   "outputs": [
    {
     "data": {
      "text/plain": [
       "array([3.74904943])"
      ]
     },
     "execution_count": 29,
     "metadata": {},
     "output_type": "execute_result"
    }
   ],
   "source": [
    "theta_0 = model.intercept_\n",
    "theta_0"
   ]
  },
  {
   "cell_type": "code",
   "execution_count": 31,
   "id": "b938a8d6-54fc-464c-9bf8-be8d9df25d42",
   "metadata": {
    "tags": []
   },
   "outputs": [
    {
     "data": {
      "text/plain": [
       "array([[5.7781429]])"
      ]
     },
     "execution_count": 31,
     "metadata": {},
     "output_type": "execute_result"
    }
   ],
   "source": [
    "india_gdp = 29932.49\n",
    "life_statisfaction = theta_0 + (india_gdp * theta_n)\n",
    "life_statisfaction"
   ]
=======
   "cell_type": "code",
   "execution_count": null,
   "id": "eea9c99a",
   "metadata": {},
   "outputs": [],
   "source": []
>>>>>>> ce22e081988eebcee76d845bf6050a3a5f50c7fc
  }
 ],
 "metadata": {
  "kernelspec": {
   "display_name": "Python 3 (ipykernel)",
   "language": "python",
   "name": "python3"
  },
  "language_info": {
   "codemirror_mode": {
    "name": "ipython",
    "version": 3
   },
   "file_extension": ".py",
   "mimetype": "text/x-python",
   "name": "python",
   "nbconvert_exporter": "python",
   "pygments_lexer": "ipython3",
   "version": "3.11.2"
  }
 },
 "nbformat": 4,
 "nbformat_minor": 5
}
