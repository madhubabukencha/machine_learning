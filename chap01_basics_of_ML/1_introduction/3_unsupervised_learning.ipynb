{
 "cells": [
  {
   "cell_type": "markdown",
   "metadata": {},
   "source": [
    "<p style=\"color:#153462; \n",
    "          font-weight: bold; \n",
    "          font-size: 30px; \n",
    "          font-family: Gill Sans, sans-serif; \n",
    "          text-align: center;\">\n",
    "          Unsupervised Learning</p>"
   ]
  },
  {
   "cell_type": "markdown",
   "metadata": {},
   "source": [
    "Unsupervised Learning is a Machine Learning technique, where you do not need to supervise the model with the help of labeled data. Instead, we need to allow the model to work on it's own to discover information on the unlabeld data. It mainly deals with unlabeled data."
   ]
  },
  {
   "cell_type": "markdown",
   "metadata": {},
   "source": [
    "<img src=\"images\\unsupervised.jpeg\" alt=\"unsupervised\" style=\"width: 600px;\"/>"
   ]
  },
  {
   "cell_type": "markdown",
   "metadata": {},
   "source": [
    "<p style=\"color:#3C4048; \n",
    "          font-weight: bold; \n",
    "          font-size: 18px; \n",
    "          font-family: Gill Sans, sans-serif;\">\n",
    "          Some Unserpervised Learning Algorithms:</p>\n",
    "<ol>\n",
    "    <li>\n",
    "        Clustering:\n",
    "        <ul>\n",
    "            <li> K- Means Clustering </li>\n",
    "            <li> DBSCAN </li>\n",
    "            <li> Hierarchical Cluster Analysis(HCA) </li>\n",
    "        </ul>\n",
    "    </li>\n",
    "    <li>\n",
    "        Anomaly detection and novelty detection:\n",
    "        <ul>\n",
    "            <li> One-class SVM </li>\n",
    "            <li> Isolation Forest </li>\n",
    "        </ul>\n",
    "    </li>\n",
    "    <li>\n",
    "        Visualization and Dimensionality deduction:\n",
    "        <ul>\n",
    "            <li>Principal Component Analaysis</li>\n",
    "            <li>Kernel PCA</li>\n",
    "            <li>Locally Linear Embedding(LLE)</li>\n",
    "        </ul>\n",
    "    </li>\n",
    "    <li>\n",
    "        Association rule learning:\n",
    "        <ul>\n",
    "            <li>Apriori</li>\n",
    "            <li>Eclat</li>\n",
    "        </ul>\n",
    "    </li>\n",
    "</ol>"
   ]
  },
  {
   "cell_type": "markdown",
   "metadata": {},
   "source": [
    "<p style=\"color:#3C4048; \n",
    "          font-weight: bold; \n",
    "          font-size: 18px; \n",
    "          font-family: Gill Sans, sans-serif;\">\n",
    "          Basic info about some of algorithms:</p>\n",
    "<ol>\n",
    "    <li><h4>Clustering:</h4>\n",
    "Clustering or clustering analysis is an unsupervised Learning Algorithm. It's often used as data analysis technique for discovering interesting patterns in a collection of uncategorized data. Clustering algorithms will process our data and find natural clusters(groups) if they exists in the data. The below picture representing 3 cluster. Clustering is a greate technique for structuring information and deriving meaningful information from the data.<br>\n",
    "<img src=\"images\\clustering.jpg\" alt=\"Drawing\" style=\"width: 400px;\"/>\n",
    "    <b>Different type of clustering types:</b>\n",
    "    <ul>\n",
    "        <li>Exclusive</li>\n",
    "        <li>Agglomerative</li>\n",
    "        <li>Overlapping</li>\n",
    "        <li>Prababilistic</li>\n",
    "    </ul></li>\n",
    "    <b>Areas where clustering algorithms used:</b>\n",
    "    <ul>\n",
    "        <li><a href=\"https://news.google.com/topstories?hl=en-IN&gl=IN&ceid=IN:en\"> Google News</a></li>\n",
    "        <li>Organizing Computing Clusters</li>\n",
    "        <li>Social Network Analysis</li>\n",
    "        <li>Market Segmentation</li>\n",
    "    </ul>\n",
    "    <li>\n",
    "        <h4>Associations:</h4> Association rules allow us to establish associations amongst data objects inside large datasets.This unsupervised techinque is about discovering interesting relationships between variable in large databases. For example, people that buy a new home most likely to buy new furniture. \n",
    "    </li>\n",
    "    <li>\n",
    "        <h4>Dimentionality Reduction:</h4>\n",
    "        Dimentionality Reduction is the subfield of Unsupervised Algorithm. This is a commonly used approach in feature preprocessing to remove noise from data. Noise in the data can degrade the predictive performance of certain algorithms. Dimensionality reduction compresses the data onto a smaller dimensional subpaces while retaining most of the relevant information.\n",
    "    </li>\n",
    "    <li>\n",
    "        <h4> Anomaly Detection: </h4>\n",
    "        In Anomaly Detection the system is shown mostly normal instances during training so it learns to reconginze them. Then when it sees a new instance it can tell whether it looks like a normal one or whether it is likely an anomaly. Examples are Detecting unusual credit card trasactioins to prevent fraud, catching manufacturing defects etc..,\n",
    "    </li>\n",
    "</ol>"
   ]
  },
  {
   "cell_type": "code",
   "execution_count": null,
   "metadata": {},
   "outputs": [],
   "source": []
  }
 ],
 "metadata": {
  "kernelspec": {
   "display_name": "Python 3 (ipykernel)",
   "language": "python",
   "name": "python3"
  },
  "language_info": {
   "codemirror_mode": {
    "name": "ipython",
    "version": 3
   },
   "file_extension": ".py",
   "mimetype": "text/x-python",
   "name": "python",
   "nbconvert_exporter": "python",
   "pygments_lexer": "ipython3",
   "version": "3.10.2"
  }
 },
 "nbformat": 4,
 "nbformat_minor": 2
}
