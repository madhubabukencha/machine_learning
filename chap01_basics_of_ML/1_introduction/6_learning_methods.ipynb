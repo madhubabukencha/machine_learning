{
 "cells": [
  {
   "cell_type": "markdown",
   "id": "8aaba2f3",
   "metadata": {},
   "source": [
    "<p style=\"color:#153462; \n",
    "          font-weight: bold; \n",
    "          font-size: 30px; \n",
    "          font-family: Gill Sans, sans-serif; \n",
    "          text-align: center;\">\n",
    "          Different Types of Machine Learning Methods</p>"
   ]
  },
  {
   "cell_type": "markdown",
   "id": "8f7cd461",
   "metadata": {},
   "source": [
    "<span style=\"color:#3C4048; \n",
    "              font-weight: bold; \n",
    "              font-size: 18px; \n",
    "              font-family: Gill Sans, sans-serif;\">\n",
    "              Batch and Online Learning:</span>"
   ]
  },
  {
   "cell_type": "markdown",
   "id": "6fbf332d",
   "metadata": {},
   "source": [
    "One of the criterion used to classify Machine Learsion systems is whether or not the system can learn incrementally from a stream incoming data"
   ]
  },
  {
   "cell_type": "markdown",
   "id": "01492ef6",
   "metadata": {},
   "source": [
    "<span style=\"color:#3C4048; \n",
    "              font-weight: bold; \n",
    "              font-size: 18px; \n",
    "              font-family: Gill Sans, sans-serif;\">\n",
    "              Batch Learning:</span>"
   ]
  },
  {
   "cell_type": "markdown",
   "id": "977ba227",
   "metadata": {},
   "source": [
    "In batch learning system is incapable of learning incrementally. It must be trained using all the available data. This will take a lot of time and computing resources, so it is typically done in offline. First the system is trained and then it launched into production and runs without learning anymore it just applies what it has learned. This is called offline learning. This kind of learning is not suitable for rapidly changing dataset like stock prices etc..,"
   ]
  },
  {
   "cell_type": "markdown",
   "id": "c5bdb93d",
   "metadata": {},
   "source": [
    "<p style=\"color:#3C4048; \n",
    "          font-weight: bold; \n",
    "          font-size: 18px; \n",
    "          font-family: Gill Sans, sans-serif;\">\n",
    "          Online Learning:</p>"
   ]
  },
  {
   "cell_type": "markdown",
   "id": "7142cb99",
   "metadata": {},
   "source": [
    "In <b> Online Learning</b>  you train the system incrementally by feeding data instances sequentially, either individually or in samll groups called mini-batches. Each learning step is fast and cheap, so the system can learn about new data on the fly as it arrives. Online learning is great for systems that receive data as a continuous flow and need to adapt to changes rapidly or autonomously. Online learning algorithms can also be used to train on big data that can't fit on one machine's main memory."
   ]
  },
  {
   "cell_type": "markdown",
   "id": "05f0589c",
   "metadata": {},
   "source": [
    "Another important parameter of online learning system is how fast they should adapt to new changing data, this called the <b>Learning Rate</b>. If you set learning rate is high then your system will rapidly adapt to new data but it will also tend to quickly forget the old data. If you set learning rate low then it will learn slowly and it will also be less sensitive to noise in the new data."
   ]
  },
  {
   "cell_type": "markdown",
   "id": "806cab68",
   "metadata": {},
   "source": [
    "A big challenge with online learning is that if bad data is fed to the system the system's performance will gradually decline."
   ]
  },
  {
   "cell_type": "markdown",
   "id": "5450e4b8",
   "metadata": {},
   "source": [
    "<p style=\"color:#3C4048; \n",
    "          font-weight: bold; \n",
    "          font-size: 18px; \n",
    "          font-family: Gill Sans, sans-serif;\">\n",
    "          Instance-Based Versus Model-Based Learning</p>"
   ]
  },
  {
   "cell_type": "markdown",
   "id": "84ee8174",
   "metadata": {},
   "source": [
    "One more way to categorize Machine Learning systems is by how they generalize for example it has never seen before. Having a good performace measure on traing data is good, but insufficient. The true goal is to perform well on new instances."
   ]
  },
  {
   "cell_type": "markdown",
   "id": "702cc00e",
   "metadata": {},
   "source": [
    "<p style=\"color:#3C4048; \n",
    "          font-weight: bold; \n",
    "          font-size: 18px; \n",
    "          font-family: Gill Sans, sans-serif;\">\n",
    "          Instance Based Learning:</p>"
   ]
  },
  {
   "cell_type": "markdown",
   "id": "a37d8ee9",
   "metadata": {},
   "source": [
    "In Instance Based Learning the system learns the example by heart then generalizes to new cases by using a similarity measure to compared to the learned examples."
   ]
  },
  {
   "cell_type": "markdown",
   "id": "602220df",
   "metadata": {},
   "source": [
    "<p style=\"color:#3C4048; \n",
    "          font-weight: bold; \n",
    "          font-size: 18px; \n",
    "          font-family: Gill Sans, sans-serif;\">\n",
    "          Model Based Learning:</p>"
   ]
  },
  {
   "cell_type": "markdown",
   "id": "924071fe",
   "metadata": {},
   "source": [
    "In Model based learning we will build a model from the given example and then we use that model to make predictions."
   ]
  },
  {
   "cell_type": "code",
   "execution_count": null,
   "id": "ca1d7e47",
   "metadata": {},
   "outputs": [],
   "source": []
  }
 ],
 "metadata": {
  "kernelspec": {
   "display_name": "Python 3 (ipykernel)",
   "language": "python",
   "name": "python3"
  },
  "language_info": {
   "codemirror_mode": {
    "name": "ipython",
    "version": 3
   },
   "file_extension": ".py",
   "mimetype": "text/x-python",
   "name": "python",
   "nbconvert_exporter": "python",
   "pygments_lexer": "ipython3",
   "version": "3.10.2"
  }
 },
 "nbformat": 4,
 "nbformat_minor": 5
}
