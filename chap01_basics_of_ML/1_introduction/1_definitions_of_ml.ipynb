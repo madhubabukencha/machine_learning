{
 "cells": [
  {
   "cell_type": "markdown",
   "metadata": {},
   "source": [
    "<p style=\"color:#153462; \n",
    "          font-weight: bold; \n",
    "          font-size: 30px; \n",
    "          font-family: Gill Sans, sans-serif; \n",
    "          text-align: center;\">\n",
    "          Definations Of Machine Learning</p>"
   ]
  },
  {
   "cell_type": "markdown",
   "metadata": {},
   "source": [
    "<p style=\"color:#3C4048; \n",
    "          font-weight: bold; \n",
    "          font-size: 18px; \n",
    "          font-family: Gill Sans, sans-serif;\">\n",
    "          Formal Definitions Of Machine Learning(ML):</p>"
   ]
  },
  {
   "cell_type": "markdown",
   "metadata": {},
   "source": [
    "<blockquote style=\"font-weight: bold;\"><p>The field of study that gives computers the ability to learn without being explicitly programmed.</p><footer>Arthur Samuel</footer></blockquote>\n",
    "<blockquote style=\"font-weight: bold;\"><p>A computer program is said to be learn from Experiance(E) with respect to some class of Task(T) and performance mesure P, if it's performance at tasks in T measured by P, improves with experiace E. </p><footer>Tom Mitchell</footer></blockquote>"
   ]
  },
  {
   "cell_type": "markdown",
   "metadata": {},
   "source": [
    "<strong>Example</strong>: If we take Chess game as an example<br>\n",
    "<b>E</b>: The experiance of playing many Chess games<br>\n",
    "<b>T</b>: The task of playing Chess<br>\n",
    "<b>P</b>: The probability that the program will win next game"
   ]
  },
  {
   "cell_type": "markdown",
   "metadata": {},
   "source": [
    "<p style=\"color:#3C4048; \n",
    "          font-weight: bold; \n",
    "          font-size: 18px; \n",
    "          font-family: Gill Sans, sans-serif;\">\n",
    "          Types Of Machine Learning:</p>\n",
    "<p>Mainly we have 4 recongined categories in Machine Learning,</p>\n",
    "<ol>\n",
    "    <li>Supervised Learning: Task driven(predict next value)</li>\n",
    "    <li>Unsupervised Learning: Data Driven (Identify clusters)</li>\n",
    "    <li>Semi Supervised Learning</li>\n",
    "    <li>Reinforcement Learning: Learn from mistakes</li>\n",
    "</ol>"
   ]
  },
  {
   "cell_type": "code",
   "execution_count": null,
   "metadata": {},
   "outputs": [],
   "source": []
  }
 ],
 "metadata": {
  "kernelspec": {
   "display_name": "Python 3 (ipykernel)",
   "language": "python",
   "name": "python3"
  },
  "language_info": {
   "codemirror_mode": {
    "name": "ipython",
    "version": 3
   },
   "file_extension": ".py",
   "mimetype": "text/x-python",
   "name": "python",
   "nbconvert_exporter": "python",
   "pygments_lexer": "ipython3",
   "version": "3.10.2"
  }
 },
 "nbformat": 4,
 "nbformat_minor": 2
}
