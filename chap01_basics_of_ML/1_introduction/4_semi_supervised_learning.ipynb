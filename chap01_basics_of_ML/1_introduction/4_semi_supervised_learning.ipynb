{
 "cells": [
  {
   "cell_type": "markdown",
   "id": "9d0f6e92",
   "metadata": {},
   "source": [
    "<p style=\"color:#153462; \n",
    "          font-weight: bold; \n",
    "          font-size: 30px; \n",
    "          font-family: Gill Sans, sans-serif; \n",
    "          text-align: center;\">\n",
    "          Semi-Supervised Learning(SSL)</p>"
   ]
  },
  {
   "cell_type": "markdown",
   "id": "32b3665a",
   "metadata": {},
   "source": [
    "In real world we will often have plenty of unlabeled instances, and few labeled instances. Some algorithms can deal with data that's partially labeled. This is called <b><i>Semisupervised Learning</i></b>. Most semisupervised learning algorithms are combinations of unsupervised and supervised algorithms."
   ]
  },
  {
   "cell_type": "markdown",
   "id": "1463fd01",
   "metadata": {},
   "source": [
    "<img src=\"images\\semi-supervised.png\" alt=\"semi-supervised-learning\" style=\"width: 600px;\"/>"
   ]
  },
  {
   "cell_type": "markdown",
   "id": "2f97d3f1",
   "metadata": {},
   "source": [
    "<p style=\"color:#3C4048; \n",
    "          font-weight: bold; \n",
    "          font-size: 18px; \n",
    "          font-family: Gill Sans, sans-serif;\">\n",
    "          Some use cases of Semi Supervised Learning:</p>\n",
    "<ul>\n",
    "<li>Image and Speech Analysis: <br>This is the most popular example of semi-supervised learning models. Images and audio files are usually not labeled. To label them is an arduous task that is expensive as well. With the help of human expertise, you can label a small data set. Once the data is trained, we can then implement SSL to label the rest of the audio and Image files and thus improve Image and speech analytic models.</li>\n",
    "<li>\n",
    "Web Content Classification:<br> There are billions of websites on the internet with different classified content. To make this information available to web users requires a vast team of human resources who can organize and classify the content on the web pages. SSL can help by labeling the content and classifying it, thus improving the user experience. Many search engines, including Google, use a semi-supervised learning model to label and rank web pages in their search result.</li>\n",
    "</ul>\n"
   ]
  },
  {
   "cell_type": "code",
   "execution_count": null,
   "id": "100c4237",
   "metadata": {},
   "outputs": [],
   "source": []
  },
  {
   "cell_type": "code",
   "execution_count": null,
   "id": "73447c18",
   "metadata": {},
   "outputs": [],
   "source": [
    "''"
   ]
  }
 ],
 "metadata": {
  "kernelspec": {
   "display_name": "Python 3 (ipykernel)",
   "language": "python",
   "name": "python3"
  },
  "language_info": {
   "codemirror_mode": {
    "name": "ipython",
    "version": 3
   },
   "file_extension": ".py",
   "mimetype": "text/x-python",
   "name": "python",
   "nbconvert_exporter": "python",
   "pygments_lexer": "ipython3",
   "version": "3.10.2"
  }
 },
 "nbformat": 4,
 "nbformat_minor": 5
}
