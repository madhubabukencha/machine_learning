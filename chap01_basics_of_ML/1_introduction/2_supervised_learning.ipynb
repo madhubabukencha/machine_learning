{
 "cells": [
  {
   "cell_type": "markdown",
   "metadata": {},
   "source": [
    "<p style=\"color:#153462; \n",
    "          font-weight: bold; \n",
    "          font-size: 30px; \n",
    "          font-family: Gill Sans, sans-serif; \n",
    "          text-align: center;\">\n",
    "             Supervised Learning</p>"
   ]
  },
  {
   "cell_type": "markdown",
   "metadata": {},
   "source": [
    "In Supervised Learning, a model is trained with labelled dataset. Labelled dataset is the one which have both input(X) and output(y) variables. We use an algorithm to learn the mapping function from the input to the output.<br><br>\n",
    "\n",
    "<center><code style=\"font-family:monospace; color: crimson; background-color:lightgray; padding: 2px;font-size: 300%\">Y=f(x)</code></center>\n",
    "\n",
    "<p>Our goal is to approximate the mapping function so well that, when you have new input data(x) that you can predict output  (Y)</p>\n",
    "\n",
    "<p>It is called supervised learning because the process of an algorithm learning from the training dataset can be thought of as a teacher supervising the learning process. We know the correct answers, the algorithm iteratively makes predictions on the training data and is corrected by the teacher. Learning stops when the algorithm achieves an acceptable level of performance</p>"
   ]
  },
  {
   "cell_type": "markdown",
   "metadata": {},
   "source": [
    "<img src=\"images\\supervised.png\" alt=\"supervised\" style=\"width: 600px;\"/>"
   ]
  },
  {
   "cell_type": "markdown",
   "metadata": {},
   "source": [
    "<p style=\"color:#3C4048; \n",
    "          font-weight: bold; \n",
    "          font-size: 18px; \n",
    "          font-family: Gill Sans, sans-serif;\">\n",
    "          Supervised Learning further grouped into 2 types:</p>\n",
    "<ol>\n",
    "<li><strong>Regression</strong>: In a regression problem, we are trying to predict results within a continuous output, meaning that we are trying to map input variables to some continuous function. <br> (or) <br>\n",
    "A regression problem is when the output variable is a real value, such as “dollars” or “weight”.,.<br><b>Applicable Areas</b>: Stock Price prediction, Housing price predicion</li>\n",
    "\n",
    "<li><strong>Classification</strong>: A classification problem is when the output variable is a category, such as “red” or “blue” or “disease” and “no disease” or Discreat valued output like 0, 1, 2 etc..,<br><b>Applicable Areas</b>: Breast Cancer detection(malignant or Benign), Email is spam or ham etc..,</li>\n",
    "</ol>"
   ]
  },
  {
   "cell_type": "markdown",
   "metadata": {},
   "source": [
    "<p style=\"color:#3C4048; \n",
    "          font-weight: bold; \n",
    "          font-size: 18px; \n",
    "          font-family: Gill Sans, sans-serif;\">\n",
    "          Some popular supervised algorithms are:</p>\n",
    "\n",
    "<ol>\n",
    "    <li>Linear regression for regression problems</li>\n",
    "    <li>Random forest for classification and regression problems</li>\n",
    "    <li>Support vector machines for classification problems</li>\n",
    "    <li>Logistic Regression</li>\n",
    "    <li>Naive Bayes</li>\n",
    "    <li>Linear Discriminant Analysis</li>\n",
    "    <li>Decision Trees</li>\n",
    "    <li>k-Nearest Neighbor Algorithm</li>\n",
    "    <li>Neural Networks (Multilayer perceptron)</li>\n",
    "    <li>Similarity Learning</li>\n",
    "</ol>"
   ]
  },
  {
   "cell_type": "code",
   "execution_count": null,
   "metadata": {},
   "outputs": [],
   "source": []
  }
 ],
 "metadata": {
  "kernelspec": {
   "display_name": "Python 3 (ipykernel)",
   "language": "python",
   "name": "python3"
  },
  "language_info": {
   "codemirror_mode": {
    "name": "ipython",
    "version": 3
   },
   "file_extension": ".py",
   "mimetype": "text/x-python",
   "name": "python",
   "nbconvert_exporter": "python",
   "pygments_lexer": "ipython3",
   "version": "3.10.2"
  }
 },
 "nbformat": 4,
 "nbformat_minor": 2
}
