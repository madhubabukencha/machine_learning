{
 "cells": [
  {
   "cell_type": "markdown",
   "id": "c7ef6cd5",
   "metadata": {},
   "source": [
    "<p style=\"color:#153462; \n",
    "          font-weight: bold; \n",
    "          font-size: 30px; \n",
    "          font-family: Gill Sans, sans-serif; \n",
    "          text-align: center;\">\n",
    "          Reinforcement Learning(RL)</p>"
   ]
  },
  {
   "cell_type": "markdown",
   "id": "3ff37898",
   "metadata": {},
   "source": [
    "In reinforcement learning the learning system is called an <i>Agent</i>. This agent can observe the environment, select and perform actions and gets rewards in return. If the agent fails to predict properly then it will also get negative rewards. It must then learn by itself what is the best strategy called a <i>policy</i> to get most rewards over time. Policy defines what action the agent should choose when it is in a given situation."
   ]
  },
  {
   "cell_type": "markdown",
   "id": "6c4b1549",
   "metadata": {},
   "source": [
    "<img src=\"images\\reinforcement.png\" alt=\"reinforcement\" style=\"width: 400px;\"/>"
   ]
  },
  {
   "cell_type": "markdown",
   "id": "287addfa",
   "metadata": {},
   "source": [
    "<p style=\"color:#3C4048; \n",
    "          font-weight: bold; \n",
    "          font-size: 18px; \n",
    "          font-family: Gill Sans, sans-serif;\">\n",
    "          Basic Terminology:</p>\n",
    "\n",
    "<ul>\n",
    "    <li>Agent(): An entity that can perceive/explore the environment and act upon it.</li>\n",
    "<li>Environment(): A situation in which an agent is present or surrounded by. In RL, we assume the stochastic environment, which means it is random in nature.</li>\n",
    "    <li>Action(): Actions are the moves taken by an agent within the environment.</li>\n",
    "<li>State(): State is a situation returned by the environment after each action taken by the agent.</li>\n",
    "<li>Reward(): A feedback returned to the agent from the environment to evaluate the action of the agent.</li>\n",
    "</ul>"
   ]
  },
  {
   "cell_type": "markdown",
   "id": "c92881ec",
   "metadata": {},
   "source": [
    "<p style=\"color:#3C4048; \n",
    "          font-weight: bold; \n",
    "          font-size: 18px; \n",
    "          font-family: Gill Sans, sans-serif;\">\n",
    "          Some use cases of Reinforcement Learning(RL):</p>"
   ]
  },
  {
   "cell_type": "markdown",
   "id": "537b5f6c",
   "metadata": {},
   "source": [
    "<ol>\n",
    "    <li>Many robots implements Reinforcement Learning algorithms to learn how to walt</li>\n",
    "    <li>It is used in games like Alpha go and Chess etc.., to make them intelligent</li>\n",
    "</ol>"
   ]
  },
  {
   "cell_type": "code",
   "execution_count": null,
   "id": "e1b984a1",
   "metadata": {},
   "outputs": [],
   "source": []
  }
 ],
 "metadata": {
  "kernelspec": {
   "display_name": "Python 3 (ipykernel)",
   "language": "python",
   "name": "python3"
  },
  "language_info": {
   "codemirror_mode": {
    "name": "ipython",
    "version": 3
   },
   "file_extension": ".py",
   "mimetype": "text/x-python",
   "name": "python",
   "nbconvert_exporter": "python",
   "pygments_lexer": "ipython3",
   "version": "3.10.2"
  }
 },
 "nbformat": 4,
 "nbformat_minor": 5
}
