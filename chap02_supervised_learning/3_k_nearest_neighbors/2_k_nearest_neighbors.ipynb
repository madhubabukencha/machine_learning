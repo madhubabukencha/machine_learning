{
 "cells": [
  {
   "cell_type": "markdown",
   "id": "4074b788",
   "metadata": {},
   "source": [
    "<center><font size=6 color=\"#00416d\">K-Nearest Neighbors (KNN)</font></center>"
   ]
  },
  {
   "cell_type": "markdown",
   "id": "4a620061",
   "metadata": {},
   "source": [
    "### Importing Dependencies"
   ]
  },
  {
   "cell_type": "code",
   "execution_count": null,
   "id": "898ebfc7",
   "metadata": {},
   "outputs": [],
   "source": [
    "import pandas as pd\n",
    "import numpy as np"
   ]
  },
  {
   "cell_type": "code",
   "execution_count": null,
   "id": "02d52c87",
   "metadata": {},
   "outputs": [],
   "source": [
    "%matplotlib inline\n",
    "import matplotlib.pyplot as plt\n",
    "import seaborn as sns"
   ]
  },
  {
   "cell_type": "code",
   "execution_count": null,
   "id": "bf09f5d2",
   "metadata": {},
   "outputs": [],
   "source": [
    "# StandardScaler model required for scaling feature values\n",
    "from sklearn.preprocessing import StandardScaler\n",
    "from sklearn.model_selection import train_test_split\n",
    "from sklearn.neighbors import KNeighborsClassifier\n",
    "from sklearn.metrics import classification_report, confusion_matrix"
   ]
  },
  {
   "cell_type": "markdown",
   "id": "66375a31",
   "metadata": {},
   "source": [
    "### Reading Data"
   ]
  },
  {
   "cell_type": "code",
   "execution_count": null,
   "id": "393c0716",
   "metadata": {},
   "outputs": [],
   "source": [
    "df = pd.read_csv(\"Classified Data\", index_col=[0])\n",
    "df.head()"
   ]
  },
  {
   "cell_type": "markdown",
   "id": "b60e28b3",
   "metadata": {},
   "source": [
    "### Performing Transformation on DataFrame"
   ]
  },
  {
   "cell_type": "markdown",
   "id": "e4634862",
   "metadata": {},
   "source": [
    "Because KNN classifier predicts class of a test observation by identifying observations that are near to it, so, the scale of the variables matter a lot. If any variable that is at very large actually effect the distance between the observations. To avoid that need to perform transformation on that data."
   ]
  },
  {
   "cell_type": "code",
   "execution_count": null,
   "id": "5642937d",
   "metadata": {},
   "outputs": [],
   "source": [
    "# Creating an object\n",
    "scalar = StandardScaler()\n",
    "scalar.fit(df.drop(\"TARGET CLASS\", axis=1))"
   ]
  },
  {
   "cell_type": "code",
   "execution_count": null,
   "id": "cc3b4d2b",
   "metadata": {},
   "outputs": [],
   "source": [
    "# Perform standardization by centering and scaling.\n",
    "scaled_features = scalar.transform(df.drop(\"TARGET CLASS\", axis=1))\n",
    "scaled_features"
   ]
  },
  {
   "cell_type": "code",
   "execution_count": null,
   "id": "7f91b054",
   "metadata": {},
   "outputs": [],
   "source": [
    "# we will create df with these scaled features\n",
    "df_scaled_feat = pd.DataFrame(scaled_features, columns=df.columns[:-1])"
   ]
  },
  {
   "cell_type": "code",
   "execution_count": null,
   "id": "438b2522",
   "metadata": {},
   "outputs": [],
   "source": [
    "df_scaled_feat"
   ]
  },
  {
   "cell_type": "markdown",
   "id": "1ea8d2cf",
   "metadata": {},
   "source": [
    "### Building KNN Model"
   ]
  },
  {
   "cell_type": "code",
   "execution_count": null,
   "id": "cb7dff46",
   "metadata": {},
   "outputs": [],
   "source": [
    "X = df_scaled_feat\n",
    "y = df[\"TARGET CLASS\"]\n",
    "x_train, x_test, y_train, y_test = train_test_split(X, y, test_size=0.3, random_state=101)"
   ]
  },
  {
   "cell_type": "code",
   "execution_count": null,
   "id": "9b4a3a8e",
   "metadata": {},
   "outputs": [],
   "source": [
    "knn = KNeighborsClassifier(n_neighbors=1)"
   ]
  },
  {
   "cell_type": "code",
   "execution_count": null,
   "id": "c653e7be",
   "metadata": {},
   "outputs": [],
   "source": [
    "knn.fit(x_train, y_train)"
   ]
  },
  {
   "cell_type": "code",
   "execution_count": null,
   "id": "6d7fdcf8",
   "metadata": {},
   "outputs": [],
   "source": [
    "predicted = knn.predict(x_test)"
   ]
  },
  {
   "cell_type": "markdown",
   "id": "2ffe3d95",
   "metadata": {},
   "source": [
    "### Evaluating model"
   ]
  },
  {
   "cell_type": "code",
   "execution_count": null,
   "id": "5c33244a",
   "metadata": {},
   "outputs": [],
   "source": [
    "print(confusion_matrix(y_test, predicted))"
   ]
  },
  {
   "cell_type": "code",
   "execution_count": null,
   "id": "bb1e7325",
   "metadata": {},
   "outputs": [],
   "source": [
    "print(classification_report(y_test, predicted))"
   ]
  },
  {
   "cell_type": "markdown",
   "id": "af4822c9",
   "metadata": {},
   "source": [
    "### Elbow Method"
   ]
  },
  {
   "cell_type": "markdown",
   "id": "3e2e24e3",
   "metadata": {},
   "source": [
    "The most important step in k-Nearest Neigborhood supervised machine learning is to determine the optimal value of K; that is. Elbow method helps data scientists to select the optimal number of clusters for KNN clustering"
   ]
  },
  {
   "cell_type": "code",
   "execution_count": null,
   "id": "0e75887c",
   "metadata": {},
   "outputs": [],
   "source": [
    "error_rate = []\n",
    "for i in range(1, 40):\n",
    "    knn = KNeighborsClassifier(n_neighbors=i)\n",
    "    knn.fit(x_train, y_train)\n",
    "    predicted = knn.predict(x_test)\n",
    "    # Whereever mean value is less which means we have good match between y_test and predicted values\n",
    "    error_rate.append(np.mean(y_test != predicted))"
   ]
  },
  {
   "cell_type": "code",
   "execution_count": null,
   "id": "12ed5d1d",
   "metadata": {},
   "outputs": [],
   "source": [
    "fig, ax = plt.subplots(figsize=(20,7))\n",
    "x = list(range(1, 40))\n",
    "y = error_rate\n",
    "plt.plot(x, y, marker='o',\n",
    "         color='green', linestyle='dashed', linewidth=2,\n",
    "         markersize=10, markerfacecolor=\"red\")\n",
    "for index in range(len(x)):\n",
    "  ax.text(x[index], y[index], x[index], size=12)\n",
    "plt.show()"
   ]
  },
  {
   "cell_type": "code",
   "execution_count": null,
   "id": "d1d93415",
   "metadata": {},
   "outputs": [],
   "source": [
    "# From above graph we can pick k value\n",
    "knn = KNeighborsClassifier(n_neighbors=34)\n",
    "knn.fit(x_train, y_train)\n",
    "predicted = knn.predict(x_test)\n",
    "print(\"Confustion Matrix:\")\n",
    "print(confusion_matrix(y_test, predicted))\n",
    "print(\"\\nClassification Report:\")\n",
    "print(classification_report(y_test, predicted))"
   ]
  },
  {
   "cell_type": "code",
   "execution_count": null,
   "id": "cefca57e",
   "metadata": {},
   "outputs": [],
   "source": []
  }
 ],
 "metadata": {
  "kernelspec": {
   "display_name": "Python 3 (ipykernel)",
   "language": "python",
   "name": "python3"
  },
  "language_info": {
   "codemirror_mode": {
    "name": "ipython",
    "version": 3
   },
   "file_extension": ".py",
   "mimetype": "text/x-python",
   "name": "python",
   "nbconvert_exporter": "python",
   "pygments_lexer": "ipython3",
   "version": "3.11.2"
  }
 },
 "nbformat": 4,
 "nbformat_minor": 5
}
