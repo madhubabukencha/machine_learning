{
 "cells": [
  {
   "cell_type": "markdown",
   "id": "8f3824c6",
   "metadata": {},
   "source": [
    "<center><font size=6 color=\"#00416d\">K-Nearest Neighbors (KNN) Theory</font></center>"
   ]
  },
  {
   "cell_type": "markdown",
   "id": "de4d2605",
   "metadata": {},
   "source": [
    "K Nearest Neighbors is a classification Algorithm. The predicting algorithms works like below,\n",
    "<ol>\n",
    "    <li>Calculate the distance from x to all points in your data</li>\n",
    "    <li>Sort the points in your data by increasing distance from x</li>\n",
    "    <li>Predict the majority label of the 'K' closet points</li>\n",
    "</ol>"
   ]
  },
  {
   "cell_type": "markdown",
   "id": "1fdbf542",
   "metadata": {},
   "source": [
    "Choosing bad 'K' value impacts our models prediction"
   ]
  },
  {
   "cell_type": "markdown",
   "id": "cd4ce99b",
   "metadata": {},
   "source": [
    "<b>Disadvantages:</b>\n",
    "<ol>\n",
    "    <li>High Prediction Cost(worse for large datasets)</li>\n",
    "    <li>Not good with high dimention data</li>\n",
    "    <li>Categorical Features doesn't work well</li>\n",
    "</ol>"
   ]
  },
  {
   "cell_type": "markdown",
   "id": "4e85bfd7",
   "metadata": {},
   "source": [
    "### To load and to save model locally "
   ]
  },
  {
   "cell_type": "markdown",
   "id": "a157651e",
   "metadata": {},
   "source": [
    "https://datascience.stackexchange.com/questions/52704/how-to-save-a-knn-model"
   ]
  },
  {
   "cell_type": "code",
   "execution_count": null,
   "id": "fd672840",
   "metadata": {},
   "outputs": [],
   "source": []
  }
 ],
 "metadata": {
  "kernelspec": {
   "display_name": "Python 3 (ipykernel)",
   "language": "python",
   "name": "python3"
  },
  "language_info": {
   "codemirror_mode": {
    "name": "ipython",
    "version": 3
   },
   "file_extension": ".py",
   "mimetype": "text/x-python",
   "name": "python",
   "nbconvert_exporter": "python",
   "pygments_lexer": "ipython3",
   "version": "3.11.2"
  }
 },
 "nbformat": 4,
 "nbformat_minor": 5
}
