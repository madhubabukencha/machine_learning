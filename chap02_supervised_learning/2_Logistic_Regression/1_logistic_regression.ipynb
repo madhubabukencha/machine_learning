{
 "cells": [
  {
   "cell_type": "markdown",
   "id": "b28f3672",
   "metadata": {},
   "source": [
    "<center><font size=6 color=\"#00416d\">Logistic Regression</font></center>"
   ]
  },
  {
   "cell_type": "markdown",
   "id": "c54c7c69",
   "metadata": {},
   "source": [
    "Logistic Regression allows to solve classification problems where we are trying to predict discrete categories. Binary classification have 2 discrete(classes) values(0 or 1)"
   ]
  },
  {
   "cell_type": "markdown",
   "id": "488245fd",
   "metadata": {},
   "source": [
    "The Sigmoid(aka Logistic) function takes any value and outputs it to be between 0 and 1.<br>\n",
    "$\\phi(z) = \\frac{1}{1+e^{-z}}$"
   ]
  },
  {
   "cell_type": "markdown",
   "id": "9f27cb02",
   "metadata": {},
   "source": [
    "<font size=4 color=\"color:#290001;\">Model Evaluation:</font>"
   ]
  },
  {
   "cell_type": "markdown",
   "id": "aefc02be",
   "metadata": {},
   "source": [
    "We can use confusion matrix to evaluate our model.<br>\n",
    "\n",
    "<b>Example:</b><br>\n",
    "We take 165 patients data and will predict whether they have cancer or not. If they have cancer then the value sholud be 1 and if not then value should be 0.<br>\n",
    "<table>\n",
    "    <tr>\n",
    "        <th>n=165</th>\n",
    "        <th>Predicted: No</th>\n",
    "        <th>Predicted: Yes</th>\n",
    "    </tr>\n",
    "    <tr>\n",
    "        <td>Actual: No</td>\n",
    "        <td>TN=50</td>\n",
    "        <td>FP=10</td>\n",
    "        <td>60</td>\n",
    "    </tr>\n",
    "    <tr>\n",
    "        <td>Actual: Yes</td>\n",
    "        <td>FN=5</td>\n",
    "        <td>TP=100</td>\n",
    "        <td>105</td>\n",
    "    </tr>\n",
    "     <tr>\n",
    "        <td></td>\n",
    "        <td>55</td>\n",
    "        <td>110</td>\n",
    "    </tr>\n",
    "</table>"
   ]
  },
  {
   "cell_type": "markdown",
   "id": "adb62b2c",
   "metadata": {},
   "source": [
    "where as,\n",
    "<ul>\n",
    "    <li>True Positive(TP): eg: He has cancer</li>\n",
    "    <li>True Negative(TN): eg: He has no cancer</li>\n",
    "    <li>False Positive(FP): eg: He has no cancer but predicted as he has cancer</li>\n",
    "    <li>False Negative(FN): eg: He has cancer but predicted as he has no cancer</li>\n",
    "</ul>"
   ]
  },
  {
   "cell_type": "markdown",
   "id": "ee01d919",
   "metadata": {},
   "source": [
    "<b>Calculating Accuracy:</b><br>"
   ]
  },
  {
   "cell_type": "markdown",
   "id": "aa2b5827",
   "metadata": {},
   "source": [
    "1. How often it is correct? <br>\n",
    "(TP+TN)/total = (100+50)/165 = 0.9090"
   ]
  },
  {
   "cell_type": "markdown",
   "id": "8f7a51c6",
   "metadata": {},
   "source": [
    "2. How often it is wrong? <br>\n",
    "(FP+FN)/total = (10+5)/165 = 0.0909"
   ]
  },
  {
   "cell_type": "markdown",
   "id": "09a26006",
   "metadata": {},
   "source": [
    "<b>Calculating Precision:</b>"
   ]
  },
  {
   "cell_type": "markdown",
   "id": "bc5e5569",
   "metadata": {},
   "source": [
    "1. How many times you really predicted correctly he/she has cancer <br>\n",
    "precision = TP/(TP+FP) = 100/(100 + 10) = 0.9090"
   ]
  },
  {
   "cell_type": "markdown",
   "id": "db84ec06",
   "metadata": {},
   "source": [
    "2. How many times you predicted correctly he has no cancer<br>\n",
    "precision = TN/(TN+FN) = 50/(50+5) = 0.90"
   ]
  },
  {
   "cell_type": "markdown",
   "id": "a67ca955",
   "metadata": {},
   "source": [
    "<b>Calculating Recall: </b>"
   ]
  },
  {
   "cell_type": "markdown",
   "id": "c3ed6350",
   "metadata": {},
   "source": [
    "1. Out of all cancer patients how many times you correctly identifed he has cancer <br>\n",
    "Recall = TP/(TP+FN) = 100/(100+5) = 0.95"
   ]
  },
  {
   "cell_type": "markdown",
   "id": "50012b4b",
   "metadata": {},
   "source": [
    "2. Out of all non cancer patients how many times you correctly identified that he has no cancer <br>\n",
    "Recall = TN/(TN+FP) = 50/(50 + 10) = 0.833"
   ]
  },
  {
   "cell_type": "markdown",
   "id": "f81ccfef",
   "metadata": {},
   "source": [
    "<b> Calculating F1 Score: </b>"
   ]
  },
  {
   "cell_type": "markdown",
   "id": "02acddff",
   "metadata": {},
   "source": [
    "F1-score is the harmonic mean of precision and recall. It combines precision and recall into a single number using the following formula. F1-score ranges between 0 and 1. The closer it is to 1, the better the model.<br>"
   ]
  },
  {
   "cell_type": "markdown",
   "id": "928426fd",
   "metadata": {},
   "source": [
    "### Resources:"
   ]
  },
  {
   "cell_type": "markdown",
   "id": "132acf07",
   "metadata": {},
   "source": [
    "https://www.youtube.com/watch?v=2osIZ-dSPGE"
   ]
  },
  {
   "cell_type": "markdown",
   "id": "97094e03",
   "metadata": {},
   "source": [
    "https://machinelearningmastery.com/precision-recall-and-f-measure-for-imbalanced-classification/#:~:text=A%20model%20makes%20predictions%20and%20predicts%2090%20of%20the%20positive,90%20%2F%20(90%20%2B%2010)"
   ]
  },
  {
   "cell_type": "code",
   "execution_count": null,
   "id": "7366c0ce",
   "metadata": {},
   "outputs": [],
   "source": []
  }
 ],
 "metadata": {
  "kernelspec": {
   "display_name": "Python 3 (ipykernel)",
   "language": "python",
   "name": "python3"
  },
  "language_info": {
   "codemirror_mode": {
    "name": "ipython",
    "version": 3
   },
   "file_extension": ".py",
   "mimetype": "text/x-python",
   "name": "python",
   "nbconvert_exporter": "python",
   "pygments_lexer": "ipython3",
   "version": "3.10.2"
  }
 },
 "nbformat": 4,
 "nbformat_minor": 5
}
