{
 "cells": [
  {
   "cell_type": "markdown",
   "id": "fedf2970-7d64-43dd-a81c-1e8e55f55dca",
   "metadata": {
    "tags": []
   },
   "source": [
    "<p style=\"color:#153462; \n",
    "          font-weight: bold; \n",
    "          font-size: 30px; \n",
    "          font-family: Gill Sans, sans-serif; \n",
    "          text-align: center;\">\n",
    "          Support Vector Machines</p>"
   ]
  },
  {
   "cell_type": "markdown",
   "id": "9fb8ab0a-2ce5-4917-a8c2-56f496352bbe",
   "metadata": {},
   "source": [
    "<p style=\"text-align: justify; text-justify: inter-word;\">\n",
    "   <font size=3>\n",
    "       Support Vector Machine (SVM) is a powerful and versatile Machine Learning model. Cable of performing linear or nonlinear classification, regression and even outlier detection. SVM's are particularly well suited for classification of complex small or medium sized datasets.\n",
    "   </font>\n",
    "</p>"
   ]
  },
  {
   "cell_type": "code",
   "execution_count": null,
   "id": "689cf7e7-569e-480d-9b48-17bdf4ea2365",
   "metadata": {},
   "outputs": [],
   "source": []
  }
 ],
 "metadata": {
  "kernelspec": {
   "display_name": "Python 3 (ipykernel)",
   "language": "python",
   "name": "python3"
  },
  "language_info": {
   "codemirror_mode": {
    "name": "ipython",
    "version": 3
   },
   "file_extension": ".py",
   "mimetype": "text/x-python",
   "name": "python",
   "nbconvert_exporter": "python",
   "pygments_lexer": "ipython3",
   "version": "3.11.2"
  }
 },
 "nbformat": 4,
 "nbformat_minor": 5
}
