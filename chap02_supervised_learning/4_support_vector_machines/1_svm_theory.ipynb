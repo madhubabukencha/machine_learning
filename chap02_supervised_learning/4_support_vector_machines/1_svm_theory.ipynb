{
 "cells": [
  {
   "cell_type": "markdown",
   "id": "fedf2970-7d64-43dd-a81c-1e8e55f55dca",
   "metadata": {
    "tags": []
   },
   "source": [
    "<p style=\"color:#153462; \n",
    "          font-weight: bold; \n",
    "          font-size: 30px; \n",
    "          font-family: Gill Sans, sans-serif; \n",
    "          text-align: center;\">\n",
    "          Support Vector Machines</p>"
   ]
  },
  {
   "cell_type": "markdown",
   "id": "9fb8ab0a-2ce5-4917-a8c2-56f496352bbe",
   "metadata": {},
   "source": [
    "<p style=\"text-align: justify; text-justify: inter-word;\">\n",
    "   <font size=3>\n",
    "       A <i>Support Vector Machine (SVM)</i> is a powerful and versatile Machine Learning model. Cable of performing linear or nonlinear classification, regression and even outlier detection. SVM's are particularly well suited for classification of complex small or medium sized datasets.\n",
    "   </font>\n",
    "</p>"
   ]
  },
  {
   "cell_type": "markdown",
   "id": "17a59039-9b3a-429c-b933-c568b999e264",
   "metadata": {},
   "source": [
    "<p style=\"text-align: justify; text-justify: inter-word;\">\n",
    "   <font size=3>\n",
    "       The fundamental idea behind SVM's is bet explained with some pictures.\n",
    "   </font>\n",
    "</p>"
   ]
  },
  {
   "cell_type": "markdown",
   "id": "00764c06-8863-446e-823d-d6eb67a662f4",
   "metadata": {
    "tags": []
   },
   "source": [
    "<img src=\"images\\svm_example.png\" alt=\"svm_example\" style=\"width: 600px;\"/>"
   ]
  },
  {
   "cell_type": "code",
   "execution_count": null,
   "id": "39c50c5b-0d37-4e02-af91-34984b9888e4",
   "metadata": {},
   "outputs": [],
   "source": []
  }
 ],
 "metadata": {
  "kernelspec": {
   "display_name": "Python 3 (ipykernel)",
   "language": "python",
   "name": "python3"
  },
  "language_info": {
   "codemirror_mode": {
    "name": "ipython",
    "version": 3
   },
   "file_extension": ".py",
   "mimetype": "text/x-python",
   "name": "python",
   "nbconvert_exporter": "python",
   "pygments_lexer": "ipython3",
   "version": "3.11.2"
  }
 },
 "nbformat": 4,
 "nbformat_minor": 5
}
