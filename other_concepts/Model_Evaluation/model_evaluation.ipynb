{
 "cells": [
  {
   "cell_type": "markdown",
   "id": "12d71a3a",
   "metadata": {},
   "source": [
    "<center><font size=6 color=\"#00416d\">Model Evaluation</font></center>"
   ]
  },
  {
   "cell_type": "markdown",
   "id": "73cd514e",
   "metadata": {},
   "source": [
    "<p style=\"text-align: justify; text-justify: inter-word;\">\n",
    "   <font size=3>\n",
    "\tModel Evaluation matrices results helps us to understand whether to consider a model build by you or not.\n",
    "   </font>\n",
    "</p>"
   ]
  },
  {
   "cell_type": "markdown",
   "id": "ab048b56",
   "metadata": {},
   "source": [
    "<p style=\"color:#3C4048; \n",
    "          font-weight: bold; \n",
    "          font-size: 18px; \n",
    "          font-family: Gill Sans, sans-serif;\">\n",
    "          Classification Evaluation Models:</p>"
   ]
  },
  {
   "cell_type": "markdown",
   "id": "c06c6465",
   "metadata": {},
   "source": [
    "<p style=\"text-align: justify; text-justify: inter-word;\">\n",
    "   <font size=3>\n",
    "\tKey classification Matrics are: <br>\n",
    "<ul>\n",
    "    <li>Accuracy</li>\n",
    "    <li>Recall</li>\n",
    "    <li>Precision</li>\n",
    "    <li>F1-Score</li>\n",
    "</ul>\n",
    "   </font>\n",
    "</p>\n"
   ]
  },
  {
   "cell_type": "markdown",
   "id": "f5fb045f",
   "metadata": {},
   "source": [
    "<p style=\"color:#3C4048; \n",
    "          font-weight: bold; \n",
    "          font-size: 18px; \n",
    "          font-family: Gill Sans, sans-serif;\">\n",
    "          Accuracy:\n",
    "</p>\n",
    "    \n",
    "<p style=\"text-align: justify; text-justify: inter-word;\">\n",
    "   <font size=3>\n",
    "    Accuracy is used in classification problems to tell the percentage of correct predictions made by a model. Accuracy score in machine learning is an evaluation metric that measures the number of correct predictions made by a model in relation to the total number of predictions made. We calculate it by dividing the number of correct predictions by the total number of predictions\n",
    "   </font>\n",
    "</p>\n",
    "\n",
    "$$Accuracy = \\frac{Number\\hspace{0.1cm}of\\hspace{0.1cm}correct\\hspace{0.1cm}predictions}{Total\\hspace{0.1cm}number\\hspace{0.1cm}of\\hspace{0.1cm}predictions}$$"
   ]
  },
  {
   "cell_type": "markdown",
   "id": "d38e5e37",
   "metadata": {},
   "source": [
    "<p style=\"text-justify: inter-word; text-justify: inter-word;\">\n",
    "   <font size=3>\n",
    "\tHow often it is correct? <br> <br>\n",
    "    Let say we have predicted 165 cancer patients data, here accuracy tells that how many times we predicted correctly. out of 165 patients we correctly predicted 100 patients have cancer and 50 patients does not have cancer. <br><br>\n",
    "   $$Accuracy = \\frac{True\\hspace{0.1cm}Positive(TP)+True\\hspace{0.1cm}Negative(TN)}{total} = \\frac{100+50}{165} = 0.9090$$\n",
    "   </font>\n",
    "</p>\n"
   ]
  },
  {
   "cell_type": "markdown",
   "id": "7ee52b71",
   "metadata": {},
   "source": [
    "<p style=\"text-align: justify; text-justify: inter-word;\">\n",
    "   <font size=3>\n",
    "\tTo improve the accuracy of the model we need to study <code> False Positive (FP)</code> and <code> False Negative (FN)</code> predicted instaces and need to make necessary adjustments to those instances.\n",
    "   </font>\n",
    "</p>\n"
   ]
  },
  {
   "cell_type": "markdown",
   "id": "346e6335",
   "metadata": {},
   "source": [
    "<b>Recall</b>:<br>\n",
    "Ability of model to find all the relevent cases within a dataset. The precise definition of recall is the <b>number of true positives</b> divided by <b> number of true positives</b> plus <b>number of false nagatives. "
   ]
  },
  {
   "cell_type": "markdown",
   "id": "fa9c398a",
   "metadata": {},
   "source": [
    "<b>Precision:</b><br>\n",
    "Ability of a classification model to identify only the relevent points.The precise defined as the number of true positives divided by number of true positives plus number of false nagatives."
   ]
  },
  {
   "cell_type": "markdown",
   "id": "251baa8a",
   "metadata": {},
   "source": [
    "<b>F1-Score:</b><br>\n",
    "In cases where we want to find an optimal blend of <b> Precision</b> and <b> Recall </b> then we can combine the two matrices using what is called F1 score."
   ]
  },
  {
   "cell_type": "markdown",
   "id": "818fd2c7",
   "metadata": {},
   "source": [
    "$$ F_1 = 2 \\times\\frac{precision \\times recall}{precision + recall}  $$"
   ]
  },
  {
   "cell_type": "markdown",
   "id": "ff9a7c87",
   "metadata": {},
   "source": [
    "#### Confusion Matrix"
   ]
  },
  {
   "cell_type": "markdown",
   "id": "10cea9c2",
   "metadata": {},
   "source": [
    "<img src=\"confusion_matrix.png\" alt=\"confusion_matrix\"/>"
   ]
  },
  {
   "cell_type": "markdown",
   "id": "2f213876",
   "metadata": {},
   "source": [
    "<font size=5 color=\"color:#290001;\">Regression Error Matrics:</font>"
   ]
  },
  {
   "cell_type": "markdown",
   "id": "ddc9de93",
   "metadata": {},
   "source": [
    "Common evaluation matrix for regression are: <br>\n",
    "<ul>\n",
    "    <li>Mean Absoulute Error(MAE)</li>\n",
    "    <li>Mean Squared Error(MSE)</li>\n",
    "    <li>Root Mean Squared Error(RMSE)</li>\n",
    "</ul>"
   ]
  },
  {
   "cell_type": "markdown",
   "id": "9cd336f5",
   "metadata": {},
   "source": [
    "<b>Mean Absoulte Error(MAE):</b><br>\n",
    "This is the mean of the absolute value error<br>\n",
    "$$ \\frac{1}{n} \\sum_{i=1}^{n} |Y_i - \\hat{Y_{i}}| $$"
   ]
  },
  {
   "cell_type": "markdown",
   "id": "8c99baf3",
   "metadata": {},
   "source": [
    "<b>Mean Squared Error(MSE):</b><br>\n",
    "By doing squared errors, we can consider larger error which are not given importance in MAE.\n",
    "$$ \\frac{1}{n} \\sum_{i=1}^{n} (Y_i - \\hat{Y_{i}})^{2} $$"
   ]
  },
  {
   "cell_type": "markdown",
   "id": "1f07abdf",
   "metadata": {},
   "source": [
    "<b>Root Mean Squared Error(RMSE):</b><br>\n",
    "This is the root of the mean of the squared errors. It helps keeping same units as y.\n",
    "$$ \\sqrt{\\frac{1}{n} \\sum_{i=1}^{n} (Y_i - \\hat{Y_{i}})^{2}} $$"
   ]
  },
  {
   "cell_type": "code",
   "execution_count": null,
   "id": "18b5472d",
   "metadata": {},
   "outputs": [],
   "source": []
  },
  {
   "cell_type": "markdown",
   "id": "b7ae287e",
   "metadata": {},
   "source": [
    "<p style=\"color:#3C4048; \n",
    "          font-weight: bold; \n",
    "          font-size: 18px; \n",
    "          font-family: Gill Sans, sans-serif;\">\n",
    "          Resources:</p>"
   ]
  },
  {
   "cell_type": "markdown",
   "id": "45f33d07",
   "metadata": {},
   "source": [
    "https://scikit-learn.org/stable/modules/model_evaluation.html"
   ]
  },
  {
   "cell_type": "code",
   "execution_count": null,
   "id": "7d897750",
   "metadata": {},
   "outputs": [],
   "source": []
  }
 ],
 "metadata": {
  "kernelspec": {
   "display_name": "Python 3 (ipykernel)",
   "language": "python",
   "name": "python3"
  },
  "language_info": {
   "codemirror_mode": {
    "name": "ipython",
    "version": 3
   },
   "file_extension": ".py",
   "mimetype": "text/x-python",
   "name": "python",
   "nbconvert_exporter": "python",
   "pygments_lexer": "ipython3",
   "version": "3.10.2"
  }
 },
 "nbformat": 4,
 "nbformat_minor": 5
}
