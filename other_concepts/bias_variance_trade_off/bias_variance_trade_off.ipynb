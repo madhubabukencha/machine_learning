{
 "cells": [
  {
   "cell_type": "markdown",
   "id": "86260be2",
   "metadata": {},
   "source": [
    "<center><font size=6 color=\"#00416d\">Bias Variance Trade-off </font></center>"
   ]
  },
  {
   "cell_type": "markdown",
   "id": "e1dfe061",
   "metadata": {},
   "source": [
    "While discussing model accuracy, we need to keep in mind the prediction errors, ie: Bias and Variance, that will always be associated with any machine learning model. There will always be a slight difference in what our model predicts and the actual predictions. These differences are called errors. Reducing errors requires selecting models that have appropriate complexity and flexibility, as well as suitable training data"
   ]
  },
  {
   "cell_type": "markdown",
   "id": "48e497a9",
   "metadata": {},
   "source": [
    "<font size=4 color=\"color:#290001;\">Errors in Machine Learning:</font>\n",
    "\n",
    " In Machine Learning, error is used to see how accurately our model can predict on data it uses to learn; as well as new, unseen data. Based on our error, we choose the machine learning model which performs best for a particular dataset."
   ]
  },
  {
   "cell_type": "markdown",
   "id": "42b5bd2e",
   "metadata": {},
   "source": [
    "<table>\n",
    "    <tr>\n",
    "        <th>Error Type</th>\n",
    "        <th>Description</th>\n",
    "    </tr>\n",
    "    <tr>\n",
    "        <td>Irreducible Error</td>\n",
    "        <td>These errors always be present in a Machine Learning Model, because of unknown variables and who values cannot be reduced</td>\n",
    "    </tr>\n",
    "    <tr>\n",
    "        <td>Reducible Error</td>\n",
    "        <td>Reducible errors are those errors whose values can be further reduced to improve a model. They are caused because our model’s output function does not match the desired output function and can be optimized. This is further divided into 2 subcategories namely <b>Bias</b> and <b>Variance</b></td>\n",
    "    </tr>\n",
    "</table>"
   ]
  },
  {
   "cell_type": "markdown",
   "id": "51151e1d",
   "metadata": {},
   "source": [
    "<font size=4 color=\"color:#290001;\">Bias:</font>"
   ]
  },
  {
   "cell_type": "markdown",
   "id": "5e92a8c9",
   "metadata": {},
   "source": [
    "<ul>\n",
    "    <li>Bias is a phenomenon that <span title=\"a bias towards one particular group or subject\" style=\"color: green\">skews</span> the result of an algorithm in favor or against an idea</li>\n",
    "    <li> Bias is the amount that a model’s prediction differs from the target value</li>\n",
    "    <li>The idea of having bias was about model giving importance to some of the features in order to generalize better for the larger dataset with various other attributes.  Bias in ML does help us generalize better and make our model less sensitive to some single data point</li>\n",
    "    <li>A model with high bias would not match the dataset closely. A low bias model will closely match the training data set</li>\n",
    "    <li>High bias would cause an algorithm to miss relevant relations between the input features and the target outputs. This is sometimes referred to as underfitting.</li>\n",
    "</ul>"
   ]
  },
  {
   "cell_type": "markdown",
   "id": "c1727bb7",
   "metadata": {},
   "source": [
    "<img src=\"images\\bias_on_training_data.PNG\" alt=\"bias_on_training_data.PNG\" style=\"width: 400px;\"/>"
   ]
  },
  {
   "cell_type": "markdown",
   "id": "64fd8a6e",
   "metadata": {},
   "source": [
    "<img src=\"images\\bias_on_testing_data.PNG\" alt=\"bias_on_testing_data.PNG\" style=\"width: 400px;\"/>"
   ]
  },
  {
   "cell_type": "markdown",
   "id": "3f58e728",
   "metadata": {},
   "source": [
    "On training data, when we calculate distance between each point and fitted line and if we sum and square them then the squiggly returns result is approcimately 0. Which means model learn well. But we should not deploy this model why becuase our model need to perform well on unseen or test data. If you see, on test data low bias haven't performed well as the difference between fit line and data points is more."
   ]
  },
  {
   "cell_type": "markdown",
   "id": "9c5fc624",
   "metadata": {},
   "source": [
    "<b> Characteristics of a high bias Model: </b><br>\n",
    "<ul>\n",
    "    <li>Failure to capture proper data trends</li>\n",
    "    <li>Potentials towards under fitting</li>\n",
    "    <li>More generalized or overly simplified</li>\n",
    "    <li>High error rate</li>\n",
    "</ul>"
   ]
  },
  {
   "cell_type": "markdown",
   "id": "41bbe985",
   "metadata": {},
   "source": [
    "<font size=4 color=\"color:#290001;\">Variance:</font>"
   ]
  },
  {
   "cell_type": "markdown",
   "id": "e03ebdbd",
   "metadata": {},
   "source": [
    "<ul>\n",
    "    <li>Variance is the variability in the model prediction—how much the ML function can adjust depending on the given data set. Variance comes from highly complex models with a large number of features.</li>\n",
    "    <li>Variance, in the context of Machine Learning, is a type of error that occurs due to a model's sensitivity to small fluctuations in the training set.</li>\n",
    "    <li>High variance would cause an algorithm to <span title=\"considering irrelevant features\" style=\"color:green;\">model</span> the noise in the training set. This is most commonly referred to as overfitting.</li>\n",
    "    <li>Model with high bias have low variance and vice versa.</li>\n",
    "</ul>"
   ]
  },
  {
   "cell_type": "markdown",
   "id": "f1f6796c",
   "metadata": {},
   "source": [
    "<img src=\"images\\high_variance.jpg\" alt=\"high variance\" style=\"width: 500px;\"/>"
   ]
  },
  {
   "cell_type": "markdown",
   "id": "8ab6c277",
   "metadata": {},
   "source": [
    "<img src=\"images\\low_variance.jpg\" alt=\"low variance\" style=\"width: 500px;\"/>"
   ]
  },
  {
   "cell_type": "markdown",
   "id": "a132e08a",
   "metadata": {},
   "source": [
    "<b>Characteristics of High Variance Model:</b>\n",
    "<ul>\n",
    "    <li>Noise in the dataset</li>\n",
    "    <li>Potential towards overfitting</li>\n",
    "    <li>Complex models</li>\n",
    "    <li>Trying to put all data points as close as possible</li>\n",
    "</ul>"
   ]
  },
  {
   "cell_type": "markdown",
   "id": "f673c4e0",
   "metadata": {},
   "source": [
    "<font size=4 color=\"color:#290001;\">Bias and Variance Trade off:</font><br>\n",
    "For any model, we have to find the perfect balance between Bias and Variance. This just ensures that we capture the essential patterns in our model while ignoring the noise present it in. This is called Bias-Variance Tradeoff. It helps optimize the error in our model and keeps it as low as possible. \n",
    "\n",
    "An optimized model will be sensitive to the patterns in our data, but at the same time will be able to generalize to new data. In this, both the bias and variance should be low so as to prevent overfitting and underfitting."
   ]
  },
  {
   "cell_type": "markdown",
   "id": "bf6da4bf",
   "metadata": {},
   "source": [
    "<img src=\"images\\bias_variance_tradeoff.PNG\" alt=\"bias_variance_tradeoff\" style=\"width: 400px;\"/>"
   ]
  },
  {
   "cell_type": "markdown",
   "id": "7d7a4927",
   "metadata": {},
   "source": [
    "Ideally in machine learning want a model that has low bias so it accurately models the “true” relationship in the training set, and has low variability so it produces consistent performance on different data sets. Regularisation techniques are used to help models find the sweet-spot between bias and variance"
   ]
  },
  {
   "cell_type": "markdown",
   "id": "1ac88e58",
   "metadata": {},
   "source": [
    "The term used to describe a model’s ability to accurately capture the relationship of unseen data is called <b>generalisation</b>. A machine learning model’s ability to generalise is central to its success"
   ]
  },
  {
   "cell_type": "markdown",
   "id": "50e7bd5b",
   "metadata": {},
   "source": [
    "<font size=4 color=\"color:#290001;\">Sources:</font><br>\n",
    "https://www.bmc.com/blogs/bias-variance-machine-learning/<br>\n",
    "https://www.simplilearn.com/tutorials/machine-learning-tutorial/bias-and-variance <br>\n",
    "https://towardsdatascience.com/the-relationship-between-bias-variance-overfitting-generalisation-in-machine-learning-models-fb78614a3f1e<br>\n",
    "https://datascience.stackexchange.com/questions/37345/what-is-the-meaning-of-term-variance-in-machine-learning-model"
   ]
  },
  {
   "cell_type": "code",
   "execution_count": null,
   "id": "39da81d5",
   "metadata": {},
   "outputs": [],
   "source": []
  }
 ],
 "metadata": {
  "kernelspec": {
   "display_name": "Python 3 (ipykernel)",
   "language": "python",
   "name": "python3"
  },
  "language_info": {
   "codemirror_mode": {
    "name": "ipython",
    "version": 3
   },
   "file_extension": ".py",
   "mimetype": "text/x-python",
   "name": "python",
   "nbconvert_exporter": "python",
   "pygments_lexer": "ipython3",
   "version": "3.10.2"
  }
 },
 "nbformat": 4,
 "nbformat_minor": 5
}
